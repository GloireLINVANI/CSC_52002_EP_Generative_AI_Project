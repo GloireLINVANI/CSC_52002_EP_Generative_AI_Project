{
 "cells": [
  {
   "cell_type": "markdown",
   "metadata": {
    "id": "nT73ZMWo_ioo"
   },
   "source": [
    "### Semantic Control in Diffusion Inpainting: Merging RePaint Sampling with Text-Driven Generation in GLIDE"
   ]
  },
  {
   "cell_type": "code",
   "execution_count": 1,
   "metadata": {
    "ExecuteTime": {
     "end_time": "2025-03-10T19:33:06.002520Z",
     "start_time": "2025-03-10T19:33:02.178855Z"
    },
    "executionInfo": {
     "elapsed": 45,
     "status": "ok",
     "timestamp": 1741669902965,
     "user": {
      "displayName": "Arnauld LINVANI",
      "userId": "15767780697894810406"
     },
     "user_tz": -60
    },
    "id": "kE5Lr8UJ_iow"
   },
   "outputs": [
    {
     "name": "stderr",
     "output_type": "stream",
     "text": [
      "/home/infres/kbrowder-24/jp/.venv/lib/python3.12/site-packages/tqdm/auto.py:21: TqdmWarning: IProgress not found. Please update jupyter and ipywidgets. See https://ipywidgets.readthedocs.io/en/stable/user_install.html\n",
      "  from .autonotebook import tqdm as notebook_tqdm\n"
     ]
    }
   ],
   "source": [
    "import numpy as np\n",
    "import torch as torch\n",
    "import gradio as gr"
   ]
  },
  {
   "cell_type": "code",
   "execution_count": 2,
   "metadata": {
    "colab": {
     "base_uri": "https://localhost:8080/"
    },
    "executionInfo": {
     "elapsed": 4,
     "status": "ok",
     "timestamp": 1741669902970,
     "user": {
      "displayName": "Arnauld LINVANI",
      "userId": "15767780697894810406"
     },
     "user_tz": -60
    },
    "id": "rDU6kLusYHVP",
    "outputId": "f6ad2c8b-3a63-48a3-adc6-7a18274c90ef"
   },
   "outputs": [
    {
     "name": "stdout",
     "output_type": "stream",
     "text": [
      "5.20.1\n"
     ]
    }
   ],
   "source": [
    "print(gr.__version__)"
   ]
  },
  {
   "cell_type": "code",
   "execution_count": 3,
   "metadata": {},
   "outputs": [
    {
     "name": "stdout",
     "output_type": "stream",
     "text": [
      "2.10.6\n"
     ]
    }
   ],
   "source": [
    "import pydantic\n",
    "print(pydantic.__version__)"
   ]
  },
  {
   "cell_type": "code",
   "execution_count": 4,
   "metadata": {
    "ExecuteTime": {
     "end_time": "2025-03-10T19:34:58.443918Z",
     "start_time": "2025-03-10T19:34:58.441481Z"
    },
    "colab": {
     "base_uri": "https://localhost:8080/"
    },
    "executionInfo": {
     "elapsed": 3,
     "status": "ok",
     "timestamp": 1741669902973,
     "user": {
      "displayName": "Arnauld LINVANI",
      "userId": "15767780697894810406"
     },
     "user_tz": -60
    },
    "id": "fADocbM8_iox",
    "outputId": "afef2dd4-7668-4cb8-b22a-442fc3572900"
   },
   "outputs": [
    {
     "name": "stdout",
     "output_type": "stream",
     "text": [
      "Using device: cuda:2\n"
     ]
    }
   ],
   "source": [
    "# This notebook supports both CPU and GPU.\n",
    "# On CPU, generating one sample may take on the order of 20 minutes.\n",
    "# On a GPU, it should be under a minute.\n",
    "\n",
    "has_cuda = torch.cuda.is_available()\n",
    "device = torch.device('cuda:2' if has_cuda else 'cpu')\n",
    "print(\"Using device:\", device)"
   ]
  },
  {
   "cell_type": "markdown",
   "metadata": {
    "id": "oZZANjle_iox"
   },
   "source": [
    "## Data"
   ]
  },
  {
   "cell_type": "markdown",
   "metadata": {
    "id": "yAB7vrfV__Xm"
   },
   "source": [
    "For practical reasons, we run the notebook in the Google Drive folder where it is located. We need to provide a path."
   ]
  },
  {
   "cell_type": "code",
   "execution_count": 5,
   "metadata": {
    "colab": {
     "base_uri": "https://localhost:8080/"
    },
    "executionInfo": {
     "elapsed": 2081,
     "status": "ok",
     "timestamp": 1741669905055,
     "user": {
      "displayName": "Arnauld LINVANI",
      "userId": "15767780697894810406"
     },
     "user_tz": -60
    },
    "id": "6EzoM6qKABRD",
    "outputId": "bd01d8f4-884e-4c38-8ade-a62813d9b2a3"
   },
   "outputs": [],
   "source": [
    "# from google.colab import drive\n",
    "\n",
    "# drive.mount('/content/drive')\n",
    "\n",
    "# # Replace path_to_notebook with your actual path\n",
    "# path_to_notebook = \"drive/MyDrive/Colab Notebooks/M1 Data AI/Computer Vision/Project\"\n",
    "\n",
    "# %cd {path_to_notebook}\n",
    "\n",
    "# !pwd\n",
    "# !ls"
   ]
  },
  {
   "cell_type": "markdown",
   "metadata": {
    "id": "rUvvEdHO_ioy"
   },
   "source": [
    "### Sampling with Repaint sampling method"
   ]
  },
  {
   "cell_type": "code",
   "execution_count": null,
   "metadata": {},
   "outputs": [],
   "source": [
    "import repaint_sampling as RS\n",
    "import repaint_patcher as RP\n",
    "import prepare_glide_inpaint as PGI\n",
    "from image_util import *\n",
    "import torch"
   ]
  },
  {
   "cell_type": "code",
   "execution_count": 47,
   "metadata": {},
   "outputs": [
    {
     "name": "stderr",
     "output_type": "stream",
     "text": [
      "/home/infres/kbrowder-24/jp/CSC_52002_EP_Generative_AI_Project/glide-text2im-main/glide_text2im/download.py:71: FutureWarning: You are using `torch.load` with `weights_only=False` (the current default value), which uses the default pickle module implicitly. It is possible to construct malicious pickle data which will execute arbitrary code during unpickling (See https://github.com/pytorch/pytorch/blob/main/SECURITY.md#untrusted-models for more details). In a future release, the default value for `weights_only` will be flipped to `True`. This limits the functions that could be executed during unpickling. Arbitrary objects will no longer be allowed to be loaded via this mode unless they are explicitly allowlisted by the user via `torch.serialization.add_safe_globals`. We recommend you start setting `weights_only=True` for any use case where you don't have full control of the loaded file. Please open an issue on GitHub for any issues related to this experimental feature.\n",
      "  return th.load(path, map_location=device)\n"
     ]
    }
   ],
   "source": [
    "model_base, diffusion_base, options_base = PGI.create_glide_generative(device=device, cuda=has_cuda)\n",
    "model_rp, diffusion_rp, options_rp = PGI.create_glide_generative(device=device, cuda=has_cuda, use_inpaint=False)\n",
    "model_rpip, diffusion_rpip, options_rpip = PGI.create_glide_generative(device=device, cuda=has_cuda)\n",
    "\n",
    "RP.patch_model_for_repaint(diffusion_rp)\n",
    "RP.patch_model_for_repaint(diffusion_rpip)\n",
    "diffusion_base.p_sample_loop = torch.compile(diffusion_base.p_sample_loop, mode=\"max-autotune\")\n",
    "diffusion_rp.p_sample_loop = torch.compile(diffusion_rp.p_sample_loop, mode=\"max-autotune\")\n",
    "diffusion_rpip.p_sample_loop = torch.compile(diffusion_rpip.p_sample_loop, mode=\"max-autotune\")\n",
    "\n",
    "\n",
    "model_up_base, diffusion_up_base, options_up_base = PGI.create_glide_upsampler(device=device, cuda=has_cuda)\n",
    "model_up_rp, diffusion_up_rp, options_up_rp = PGI.create_glide_upsampler(device=device, cuda=has_cuda, use_inpaint=False)\n",
    "model_up_rpip, diffusion_up_rpip, options_up_rpip = PGI.create_glide_upsampler(device=device, cuda=has_cuda)\n",
    "\n",
    "RP.patch_model_for_repaint(diffusion_up_rp)\n",
    "RP.patch_model_for_repaint(diffusion_up_rpip)\n",
    "\n",
    "sampler_up_base = RS.UpscaleSamplerInpaint(model_up_base, diffusion_up_base, options_up_base, model_fn=None, device=device)\n",
    "sampler_up_base.sample = torch.compile(sampler_up_base.sample, mode=\"max-autotune\")\n",
    "sampler_up_rp = RS.UpscaleSamplerRepaint(model_up_rp, diffusion_up_rp, options_up_rp, model_fn=None, device=device)\n",
    "sampler_up_rp.sample = torch.compile(sampler_up_rp.sample, mode=\"max-autotune\")\n",
    "sampler_up_rpip = RS.UpscaleSamplerRepaint(model_up_rpip, diffusion_up_rpip, options_up_rpip, model_fn=None, device=device)\n",
    "sampler_up_rpip.sample = torch.compile(sampler_up_rpip.sample, mode=\"max-autotune\")\n",
    "upsample_temp = 0.997"
   ]
  },
  {
   "cell_type": "code",
   "execution_count": 65,
   "metadata": {
    "executionInfo": {
     "elapsed": 9,
     "status": "ok",
     "timestamp": 1741669905160,
     "user": {
      "displayName": "Arnauld LINVANI",
      "userId": "15767780697894810406"
     },
     "user_tz": -60
    },
    "id": "aRRHJjb4_io1"
   },
   "outputs": [],
   "source": [
    "def inpaint_image(input_image, mask_image, prompt, guidance_scale=7.0, size=256, batch_size=1, variant=\"base\"):\n",
    "    \"\"\"Inpaint the masked region of the image based on the text prompt.\"\"\"\n",
    "    sampler = None\n",
    "    if variant==\"base\":\n",
    "        sampler = RS.CFGSamplerInpaint(model_base, diffusion_base, options_base, guidance_scale, device)\n",
    "    elif variant==\"repaint\":\n",
    "        sampler = RS.CFGSamplerRepaint(model_rp, diffusion_rp, options_rp, guidance_scale, device)\n",
    "    elif variant==\"repaint_inpaint\":\n",
    "        sampler = RS.CFGSamplerRepaintInpaint(model_rpip, diffusion_rpip, options_rpip, guidance_scale, device)\n",
    "    else:\n",
    "        raise Exception(\"Invalid variant choice\")\n",
    "    \n",
    "    sampler_up = None\n",
    "    if variant==\"base\":\n",
    "        sampler_up = sampler_up_base\n",
    "    elif variant==\"repaint\":\n",
    "        sampler_up = sampler_up_rp\n",
    "    elif variant==\"repaint_inpaint\":\n",
    "        sampler_up = sampler_up_rp\n",
    "\n",
    "    # Process input image\n",
    "    image_tensor = process_image(input_image, size=64)\n",
    "    image_tensor_full = process_image(input_image, size=size)\n",
    "\n",
    "    # Handling the mask from the drawing canvas\n",
    "    if len(mask_image.shape) == 3 and mask_image.shape[2] == 4:\n",
    "        mask_array = mask_image[:, :, 3]\n",
    "    elif len(mask_image.shape) == 2:\n",
    "        mask_array = mask_image\n",
    "    else:\n",
    "        mask_array = np.mean(mask_image, axis=2) if mask_image.shape[2] == 3 else mask_image\n",
    "\n",
    "    mask_tensor = process_mask(mask_array, size=64)\n",
    "    mask_tensor_full = process_mask(mask_array, size=size)\n",
    "\n",
    "    # In GLIDE's inpainting model, 0 means \"inpaint this\", 1 means \"keep this\"\n",
    "    # But in our UI, white (255) means \"inpaint this\", so we invert the mask\n",
    "    inpaint_mask = 1.0 - mask_tensor\n",
    "    inpaint_mask_full = 1.0 - mask_tensor_full\n",
    "\n",
    "    # Rest of your function remains the same\n",
    "    # For RePaint, we need the ground truth image and keep mask\n",
    "    gt = image_tensor\n",
    "    gt_keep_mask = inpaint_mask  # 1 for areas to keep (not inpaint)\n",
    "\n",
    "    gt_full = image_tensor_full\n",
    "    gt_keep_mask_full = inpaint_mask_full\n",
    "\n",
    "    # Sampling from the model\n",
    "    print(\"Generating inpainted image...\")\n",
    "\n",
    "    jump_params = {\n",
    "        \"t_T\": 250,\n",
    "        \"n_sample\": 1,\n",
    "        \"jump_length\": 10,\n",
    "        \"jump_n_sample\": 3,\n",
    "        \"start_resampling\": 20\n",
    "    }\n",
    "    samples = None\n",
    "    if variant==\"base\":\n",
    "        samples = sampler.sample(gt, gt_keep_mask, prompt, batch_size)[:batch_size]\n",
    "    else:\n",
    "        samples = sampler.sample(gt, gt_keep_mask, prompt, batch_size, jump_params=jump_params)[:batch_size]\n",
    "\n",
    "    if variant==\"base\":\n",
    "        samples = sampler_up.sample(samples, upsample_temp, gt_full, gt_keep_mask_full, prompt, batch_size)[:batch_size]\n",
    "    else:\n",
    "        samples = sampler_up.sample(samples, upsample_temp, gt_full, gt_keep_mask_full, prompt, batch_size, jump_params=jump_params)[:batch_size]\n",
    "\n",
    "    # Convert the tensor to a numpy array in the range [0, 255]\n",
    "    samples = ((samples + 1) * 127.5).clamp(0, 255).to(torch.uint8)\n",
    "    samples = samples.permute(0, 2, 3, 1).contiguous()\n",
    "    sample_image = samples[0].cpu().numpy()\n",
    "\n",
    "    return sample_image"
   ]
  },
  {
   "cell_type": "code",
   "execution_count": 53,
   "metadata": {},
   "outputs": [
    {
     "name": "stdout",
     "output_type": "stream",
     "text": [
      "Generating inpainted image...\n",
      "CFGSampler\n"
     ]
    },
    {
     "name": "stderr",
     "output_type": "stream",
     "text": [
      "  0%|          | 0/250 [00:00<?, ?it/s]skipping cudagraphs due to skipping cudagraphs due to cpu device (arg789_1). Found from : \n",
      "   File \"/home/infres/kbrowder-24/jp/CSC_52002_EP_Generative_AI_Project/glide-text2im-main/glide_text2im/gaussian_diffusion.py\", line 340, in p_sample\n",
      "    out = self.p_mean_variance(\n",
      "  File \"/home/infres/kbrowder-24/jp/CSC_52002_EP_Generative_AI_Project/glide-text2im-main/glide_text2im/respace.py\", line 94, in p_mean_variance\n",
      "    return super().p_mean_variance(self._wrap_model(model), *args, **kwargs)\n",
      "  File \"/home/infres/kbrowder-24/jp/CSC_52002_EP_Generative_AI_Project/glide-text2im-main/glide_text2im/gaussian_diffusion.py\", line 242, in p_mean_variance\n",
      "    min_log = _extract_into_tensor(self.posterior_log_variance_clipped, t, x.shape)\n",
      "  File \"/home/infres/kbrowder-24/jp/CSC_52002_EP_Generative_AI_Project/glide-text2im-main/glide_text2im/gaussian_diffusion.py\", line 636, in _extract_into_tensor\n",
      "    res = th.from_numpy(arr).to(device=timesteps.device)[timesteps].float()\n",
      "\n",
      "100%|██████████| 250/250 [01:24<00:00,  2.94it/s]\n",
      "  0%|          | 0/250 [00:00<?, ?it/s]skipping cudagraphs due to skipping cudagraphs due to cpu device (arg808_1). Found from : \n",
      "   File \"/home/infres/kbrowder-24/jp/CSC_52002_EP_Generative_AI_Project/glide-text2im-main/glide_text2im/gaussian_diffusion.py\", line 340, in p_sample\n",
      "    out = self.p_mean_variance(\n",
      "  File \"/home/infres/kbrowder-24/jp/CSC_52002_EP_Generative_AI_Project/glide-text2im-main/glide_text2im/respace.py\", line 94, in p_mean_variance\n",
      "    return super().p_mean_variance(self._wrap_model(model), *args, **kwargs)\n",
      "  File \"/home/infres/kbrowder-24/jp/CSC_52002_EP_Generative_AI_Project/glide-text2im-main/glide_text2im/gaussian_diffusion.py\", line 242, in p_mean_variance\n",
      "    min_log = _extract_into_tensor(self.posterior_log_variance_clipped, t, x.shape)\n",
      "  File \"/home/infres/kbrowder-24/jp/CSC_52002_EP_Generative_AI_Project/glide-text2im-main/glide_text2im/gaussian_diffusion.py\", line 636, in _extract_into_tensor\n",
      "    res = th.from_numpy(arr).to(device=timesteps.device)[timesteps].float()\n",
      "\n",
      "100%|██████████| 250/250 [02:27<00:00,  1.70it/s] \n"
     ]
    },
    {
     "name": "stdout",
     "output_type": "stream",
     "text": [
      "Generating inpainted image...\n",
      "CFGSampler\n",
      "times: [249, 248, 247, 246, 245, 244, 243, 242, 241, 240, 239, 238, 237, 236, 235, 234, 233, 232, 231, 230, 229, 228, 227, 226, 225, 224, 223, 222, 221, 220, 219, 218, 217, 216, 215, 214, 213, 212, 211, 210, 209, 208, 207, 206, 205, 204, 203, 202, 201, 200, 199, 198, 197, 196, 195, 194, 193, 192, 191, 190, 189, 188, 187, 186, 185, 184, 183, 182, 181, 180, 179, 178, 177, 176, 175, 174, 173, 172, 171, 170, 169, 168, 167, 166, 165, 164, 163, 162, 161, 160, 159, 158, 157, 156, 155, 154, 153, 152, 151, 150, 149, 148, 147, 146, 145, 144, 143, 142, 141, 140, 139, 138, 137, 136, 135, 134, 133, 132, 131, 130, 129, 128, 127, 126, 125, 124, 123, 122, 121, 120, 119, 118, 117, 116, 115, 114, 113, 112, 111, 110, 109, 108, 107, 106, 105, 104, 103, 102, 101, 100, 99, 98, 97, 96, 95, 94, 93, 92, 91, 90, 89, 88, 87, 86, 85, 84, 83, 82, 81, 80, 79, 78, 77, 76, 75, 74, 73, 72, 71, 70, 69, 68, 67, 66, 65, 64, 63, 62, 61, 60, 59, 58, 57, 56, 55, 54, 53, 52, 51, 50, 49, 48, 47, 46, 45, 44, 43, 42, 41, 40, 39, 38, 37, 36, 35, 34, 33, 32, 31, 30, 29, 28, 27, 26, 25, 24, 23, 22, 21, 20, 21, 20, 19, 20, 19, 18, 19, 18, 17, 18, 17, 16, 17, 16, 15, 16, 15, 14, 15, 14, 13, 14, 13, 12, 13, 12, 11, 12, 11, 10, 11, 10, 11, 12, 13, 14, 15, 16, 17, 18, 19, 20, 19, 20, 19, 18, 19, 18, 17, 18, 17, 16, 17, 16, 15, 16, 15, 14, 15, 14, 13, 14, 13, 12, 13, 12, 11, 12, 11, 10, 11, 10, 11, 12, 13, 14, 15, 16, 17, 18, 19, 20, 19, 20, 19, 18, 19, 18, 17, 18, 17, 16, 17, 16, 15, 16, 15, 14, 15, 14, 13, 14, 13, 12, 13, 12, 11, 12, 11, 10, 11, 10, 9, 10, 9, 8, 9, 8, 7, 8, 7, 6, 7, 6, 5, 6, 5, 4, 5, 4, 3, 4, 3, 2, 3, 2, 1, 2, 1, 0, 1, 0, 1, 2, 3, 4, 5, 6, 7, 8, 9, 10, 9, 10, 9, 8, 9, 8, 7, 8, 7, 6, 7, 6, 5, 6, 5, 4, 5, 4, 3, 4, 3, 2, 3, 2, 1, 2, 1, 0, 1, 0, 1, 2, 3, 4, 5, 6, 7, 8, 9, 10, 9, 10, 9, 8, 9, 8, 7, 8, 7, 6, 7, 6, 5, 6, 5, 4, 5, 4, 3, 4, 3, 2, 3, 2, 1, 2, 1, 0, 1, 0, -1]\n",
      "len(times): 453\n"
     ]
    },
    {
     "name": "stderr",
     "output_type": "stream",
     "text": [
      "  0%|          | 0/452 [00:00<?, ?it/s]AUTOTUNE convolution(2x3x64x64, 192x3x3x3)\n",
      "  convolution 0.0031 ms 100.0% \n",
      "  triton_convolution2d_33601 0.0154 ms 20.0% ALLOW_TF32=True, BLOCK_K=16, BLOCK_M=256, BLOCK_N=64, GROUPS=1, KERNEL_H=3, KERNEL_W=3, PADDING_H=1, PADDING_W=1, STRIDE_H=1, STRIDE_W=1, UNROLL=False, num_stages=2, num_warps=8\n",
      "  triton_convolution2d_33596 0.0164 ms 18.8% ALLOW_TF32=True, BLOCK_K=16, BLOCK_M=256, BLOCK_N=64, GROUPS=1, KERNEL_H=3, KERNEL_W=3, PADDING_H=1, PADDING_W=1, STRIDE_H=1, STRIDE_W=1, UNROLL=False, num_stages=2, num_warps=4\n",
      "  triton_convolution2d_33599 0.0164 ms 18.8% ALLOW_TF32=True, BLOCK_K=16, BLOCK_M=64, BLOCK_N=64, GROUPS=1, KERNEL_H=3, KERNEL_W=3, PADDING_H=1, PADDING_W=1, STRIDE_H=1, STRIDE_W=1, UNROLL=False, num_stages=2, num_warps=4\n",
      "  triton_convolution2d_33597 0.0195 ms 15.8% ALLOW_TF32=True, BLOCK_K=16, BLOCK_M=1024, BLOCK_N=16, GROUPS=1, KERNEL_H=3, KERNEL_W=3, PADDING_H=1, PADDING_W=1, STRIDE_H=1, STRIDE_W=1, UNROLL=False, num_stages=1, num_warps=8\n",
      "  triton_convolution2d_33598 0.0256 ms 12.0% ALLOW_TF32=True, BLOCK_K=16, BLOCK_M=128, BLOCK_N=128, GROUPS=1, KERNEL_H=3, KERNEL_W=3, PADDING_H=1, PADDING_W=1, STRIDE_H=1, STRIDE_W=1, UNROLL=False, num_stages=2, num_warps=8\n",
      "  triton_convolution2d_33595 0.0266 ms 11.5% ALLOW_TF32=True, BLOCK_K=16, BLOCK_M=64, BLOCK_N=256, GROUPS=1, KERNEL_H=3, KERNEL_W=3, PADDING_H=1, PADDING_W=1, STRIDE_H=1, STRIDE_W=1, UNROLL=False, num_stages=2, num_warps=4\n",
      "  triton_convolution2d_33600 0.0276 ms 11.1% ALLOW_TF32=True, BLOCK_K=16, BLOCK_M=64, BLOCK_N=256, GROUPS=1, KERNEL_H=3, KERNEL_W=3, PADDING_H=1, PADDING_W=1, STRIDE_H=1, STRIDE_W=1, UNROLL=False, num_stages=2, num_warps=8\n",
      "SingleProcess AUTOTUNE benchmarking takes 1.2108 seconds and 0.0011 seconds precompiling\n",
      "skipping cudagraphs due to skipping cudagraphs due to cpu device (arg789_1). Found from : \n",
      "   File \"/home/infres/kbrowder-24/jp/CSC_52002_EP_Generative_AI_Project/repaint_patcher.py\", line 290, in <lambda>\n",
      "    diffusion.p_sample = lambda *args, **kwargs: repaint_p_sample(\n",
      "  File \"/home/infres/kbrowder-24/jp/CSC_52002_EP_Generative_AI_Project/repaint_patcher.py\", line 220, in repaint_p_sample\n",
      "    out = diffusion_model.p_mean_variance(\n",
      "  File \"/home/infres/kbrowder-24/jp/CSC_52002_EP_Generative_AI_Project/glide-text2im-main/glide_text2im/respace.py\", line 94, in p_mean_variance\n",
      "    return super().p_mean_variance(self._wrap_model(model), *args, **kwargs)\n",
      "  File \"/home/infres/kbrowder-24/jp/CSC_52002_EP_Generative_AI_Project/glide-text2im-main/glide_text2im/gaussian_diffusion.py\", line 242, in p_mean_variance\n",
      "    min_log = _extract_into_tensor(self.posterior_log_variance_clipped, t, x.shape)\n",
      "  File \"/home/infres/kbrowder-24/jp/CSC_52002_EP_Generative_AI_Project/glide-text2im-main/glide_text2im/gaussian_diffusion.py\", line 636, in _extract_into_tensor\n",
      "    res = th.from_numpy(arr).to(device=timesteps.device)[timesteps].float()\n",
      "\n",
      "  0%|          | 1/452 [03:21<25:16:55, 201.81s/it]skipping cudagraphs due to skipping cudagraphs due to cpu device (arg7_1). Found from : \n",
      "   File \"/home/infres/kbrowder-24/jp/CSC_52002_EP_Generative_AI_Project/repaint_patcher.py\", line 290, in <lambda>\n",
      "    diffusion.p_sample = lambda *args, **kwargs: repaint_p_sample(\n",
      "  File \"/home/infres/kbrowder-24/jp/CSC_52002_EP_Generative_AI_Project/repaint_patcher.py\", line 204, in repaint_p_sample\n",
      "    alpha_cumprod = extract_into_tensor(diffusion_model.alphas_cumprod, t, x.shape)\n",
      "  File \"/home/infres/kbrowder-24/jp/CSC_52002_EP_Generative_AI_Project/repaint_patcher.py\", line 160, in extract_into_tensor\n",
      "    res = torch.from_numpy(arr).to(device=timesteps.device)[timesteps].float()\n",
      "\n",
      "100%|██████████| 452/452 [06:45<00:00,  1.11it/s]  \n"
     ]
    },
    {
     "name": "stdout",
     "output_type": "stream",
     "text": [
      "times: [249, 248, 247, 246, 245, 244, 243, 242, 241, 240, 239, 238, 237, 236, 235, 234, 233, 232, 231, 230, 229, 228, 227, 226, 225, 224, 223, 222, 221, 220, 219, 218, 217, 216, 215, 214, 213, 212, 211, 210, 209, 208, 207, 206, 205, 204, 203, 202, 201, 200, 199, 198, 197, 196, 195, 194, 193, 192, 191, 190, 189, 188, 187, 186, 185, 184, 183, 182, 181, 180, 179, 178, 177, 176, 175, 174, 173, 172, 171, 170, 169, 168, 167, 166, 165, 164, 163, 162, 161, 160, 159, 158, 157, 156, 155, 154, 153, 152, 151, 150, 149, 148, 147, 146, 145, 144, 143, 142, 141, 140, 139, 138, 137, 136, 135, 134, 133, 132, 131, 130, 129, 128, 127, 126, 125, 124, 123, 122, 121, 120, 119, 118, 117, 116, 115, 114, 113, 112, 111, 110, 109, 108, 107, 106, 105, 104, 103, 102, 101, 100, 99, 98, 97, 96, 95, 94, 93, 92, 91, 90, 89, 88, 87, 86, 85, 84, 83, 82, 81, 80, 79, 78, 77, 76, 75, 74, 73, 72, 71, 70, 69, 68, 67, 66, 65, 64, 63, 62, 61, 60, 59, 58, 57, 56, 55, 54, 53, 52, 51, 50, 49, 48, 47, 46, 45, 44, 43, 42, 41, 40, 39, 38, 37, 36, 35, 34, 33, 32, 31, 30, 29, 28, 27, 26, 25, 24, 23, 22, 21, 20, 21, 20, 19, 20, 19, 18, 19, 18, 17, 18, 17, 16, 17, 16, 15, 16, 15, 14, 15, 14, 13, 14, 13, 12, 13, 12, 11, 12, 11, 10, 11, 10, 11, 12, 13, 14, 15, 16, 17, 18, 19, 20, 19, 20, 19, 18, 19, 18, 17, 18, 17, 16, 17, 16, 15, 16, 15, 14, 15, 14, 13, 14, 13, 12, 13, 12, 11, 12, 11, 10, 11, 10, 11, 12, 13, 14, 15, 16, 17, 18, 19, 20, 19, 20, 19, 18, 19, 18, 17, 18, 17, 16, 17, 16, 15, 16, 15, 14, 15, 14, 13, 14, 13, 12, 13, 12, 11, 12, 11, 10, 11, 10, 9, 10, 9, 8, 9, 8, 7, 8, 7, 6, 7, 6, 5, 6, 5, 4, 5, 4, 3, 4, 3, 2, 3, 2, 1, 2, 1, 0, 1, 0, 1, 2, 3, 4, 5, 6, 7, 8, 9, 10, 9, 10, 9, 8, 9, 8, 7, 8, 7, 6, 7, 6, 5, 6, 5, 4, 5, 4, 3, 4, 3, 2, 3, 2, 1, 2, 1, 0, 1, 0, 1, 2, 3, 4, 5, 6, 7, 8, 9, 10, 9, 10, 9, 8, 9, 8, 7, 8, 7, 6, 7, 6, 5, 6, 5, 4, 5, 4, 3, 4, 3, 2, 3, 2, 1, 2, 1, 0, 1, 0, -1]\n",
      "len(times): 453\n"
     ]
    },
    {
     "name": "stderr",
     "output_type": "stream",
     "text": [
      "  0%|          | 0/452 [00:00<?, ?it/s]W0322 12:47:48.454000 3820122 torch/_dynamo/convert_frame.py:844] [2/11] torch._dynamo hit config.cache_size_limit (8)\n",
      "W0322 12:47:48.454000 3820122 torch/_dynamo/convert_frame.py:844] [2/11]    function: '<lambda>' (/home/infres/kbrowder-24/jp/CSC_52002_EP_Generative_AI_Project/repaint_patcher.py:290)\n",
      "W0322 12:47:48.454000 3820122 torch/_dynamo/convert_frame.py:844] [2/11]    last reason: 2/3: len(L['kwargs']['model_kwargs']) != 4\n",
      "W0322 12:47:48.454000 3820122 torch/_dynamo/convert_frame.py:844] [2/11] To log all recompilation reasons, use TORCH_LOGS=\"recompiles\".\n",
      "W0322 12:47:48.454000 3820122 torch/_dynamo/convert_frame.py:844] [2/11] To diagnose recompilation issues, see https://pytorch.org/docs/main/torch.compiler_troubleshooting.html.\n",
      "100%|██████████| 452/452 [00:21<00:00, 21.09it/s]\n"
     ]
    },
    {
     "name": "stdout",
     "output_type": "stream",
     "text": [
      "Generating inpainted image...\n",
      "CFGSampler\n",
      "times: [249, 248, 247, 246, 245, 244, 243, 242, 241, 240, 239, 238, 237, 236, 235, 234, 233, 232, 231, 230, 229, 228, 227, 226, 225, 224, 223, 222, 221, 220, 219, 218, 217, 216, 215, 214, 213, 212, 211, 210, 209, 208, 207, 206, 205, 204, 203, 202, 201, 200, 199, 198, 197, 196, 195, 194, 193, 192, 191, 190, 189, 188, 187, 186, 185, 184, 183, 182, 181, 180, 179, 178, 177, 176, 175, 174, 173, 172, 171, 170, 169, 168, 167, 166, 165, 164, 163, 162, 161, 160, 159, 158, 157, 156, 155, 154, 153, 152, 151, 150, 149, 148, 147, 146, 145, 144, 143, 142, 141, 140, 139, 138, 137, 136, 135, 134, 133, 132, 131, 130, 129, 128, 127, 126, 125, 124, 123, 122, 121, 120, 119, 118, 117, 116, 115, 114, 113, 112, 111, 110, 109, 108, 107, 106, 105, 104, 103, 102, 101, 100, 99, 98, 97, 96, 95, 94, 93, 92, 91, 90, 89, 88, 87, 86, 85, 84, 83, 82, 81, 80, 79, 78, 77, 76, 75, 74, 73, 72, 71, 70, 69, 68, 67, 66, 65, 64, 63, 62, 61, 60, 59, 58, 57, 56, 55, 54, 53, 52, 51, 50, 49, 48, 47, 46, 45, 44, 43, 42, 41, 40, 39, 38, 37, 36, 35, 34, 33, 32, 31, 30, 29, 28, 27, 26, 25, 24, 23, 22, 21, 20, 21, 20, 19, 20, 19, 18, 19, 18, 17, 18, 17, 16, 17, 16, 15, 16, 15, 14, 15, 14, 13, 14, 13, 12, 13, 12, 11, 12, 11, 10, 11, 10, 11, 12, 13, 14, 15, 16, 17, 18, 19, 20, 19, 20, 19, 18, 19, 18, 17, 18, 17, 16, 17, 16, 15, 16, 15, 14, 15, 14, 13, 14, 13, 12, 13, 12, 11, 12, 11, 10, 11, 10, 11, 12, 13, 14, 15, 16, 17, 18, 19, 20, 19, 20, 19, 18, 19, 18, 17, 18, 17, 16, 17, 16, 15, 16, 15, 14, 15, 14, 13, 14, 13, 12, 13, 12, 11, 12, 11, 10, 11, 10, 9, 10, 9, 8, 9, 8, 7, 8, 7, 6, 7, 6, 5, 6, 5, 4, 5, 4, 3, 4, 3, 2, 3, 2, 1, 2, 1, 0, 1, 0, 1, 2, 3, 4, 5, 6, 7, 8, 9, 10, 9, 10, 9, 8, 9, 8, 7, 8, 7, 6, 7, 6, 5, 6, 5, 4, 5, 4, 3, 4, 3, 2, 3, 2, 1, 2, 1, 0, 1, 0, 1, 2, 3, 4, 5, 6, 7, 8, 9, 10, 9, 10, 9, 8, 9, 8, 7, 8, 7, 6, 7, 6, 5, 6, 5, 4, 5, 4, 3, 4, 3, 2, 3, 2, 1, 2, 1, 0, 1, 0, -1]\n",
      "len(times): 453\n"
     ]
    },
    {
     "name": "stderr",
     "output_type": "stream",
     "text": [
      "100%|██████████| 452/452 [00:17<00:00, 26.42it/s]\n"
     ]
    },
    {
     "name": "stdout",
     "output_type": "stream",
     "text": [
      "times: [249, 248, 247, 246, 245, 244, 243, 242, 241, 240, 239, 238, 237, 236, 235, 234, 233, 232, 231, 230, 229, 228, 227, 226, 225, 224, 223, 222, 221, 220, 219, 218, 217, 216, 215, 214, 213, 212, 211, 210, 209, 208, 207, 206, 205, 204, 203, 202, 201, 200, 199, 198, 197, 196, 195, 194, 193, 192, 191, 190, 189, 188, 187, 186, 185, 184, 183, 182, 181, 180, 179, 178, 177, 176, 175, 174, 173, 172, 171, 170, 169, 168, 167, 166, 165, 164, 163, 162, 161, 160, 159, 158, 157, 156, 155, 154, 153, 152, 151, 150, 149, 148, 147, 146, 145, 144, 143, 142, 141, 140, 139, 138, 137, 136, 135, 134, 133, 132, 131, 130, 129, 128, 127, 126, 125, 124, 123, 122, 121, 120, 119, 118, 117, 116, 115, 114, 113, 112, 111, 110, 109, 108, 107, 106, 105, 104, 103, 102, 101, 100, 99, 98, 97, 96, 95, 94, 93, 92, 91, 90, 89, 88, 87, 86, 85, 84, 83, 82, 81, 80, 79, 78, 77, 76, 75, 74, 73, 72, 71, 70, 69, 68, 67, 66, 65, 64, 63, 62, 61, 60, 59, 58, 57, 56, 55, 54, 53, 52, 51, 50, 49, 48, 47, 46, 45, 44, 43, 42, 41, 40, 39, 38, 37, 36, 35, 34, 33, 32, 31, 30, 29, 28, 27, 26, 25, 24, 23, 22, 21, 20, 21, 20, 19, 20, 19, 18, 19, 18, 17, 18, 17, 16, 17, 16, 15, 16, 15, 14, 15, 14, 13, 14, 13, 12, 13, 12, 11, 12, 11, 10, 11, 10, 11, 12, 13, 14, 15, 16, 17, 18, 19, 20, 19, 20, 19, 18, 19, 18, 17, 18, 17, 16, 17, 16, 15, 16, 15, 14, 15, 14, 13, 14, 13, 12, 13, 12, 11, 12, 11, 10, 11, 10, 11, 12, 13, 14, 15, 16, 17, 18, 19, 20, 19, 20, 19, 18, 19, 18, 17, 18, 17, 16, 17, 16, 15, 16, 15, 14, 15, 14, 13, 14, 13, 12, 13, 12, 11, 12, 11, 10, 11, 10, 9, 10, 9, 8, 9, 8, 7, 8, 7, 6, 7, 6, 5, 6, 5, 4, 5, 4, 3, 4, 3, 2, 3, 2, 1, 2, 1, 0, 1, 0, 1, 2, 3, 4, 5, 6, 7, 8, 9, 10, 9, 10, 9, 8, 9, 8, 7, 8, 7, 6, 7, 6, 5, 6, 5, 4, 5, 4, 3, 4, 3, 2, 3, 2, 1, 2, 1, 0, 1, 0, 1, 2, 3, 4, 5, 6, 7, 8, 9, 10, 9, 10, 9, 8, 9, 8, 7, 8, 7, 6, 7, 6, 5, 6, 5, 4, 5, 4, 3, 4, 3, 2, 3, 2, 1, 2, 1, 0, 1, 0, -1]\n",
      "len(times): 453\n"
     ]
    },
    {
     "name": "stderr",
     "output_type": "stream",
     "text": [
      "100%|██████████| 452/452 [00:21<00:00, 21.28it/s]"
     ]
    },
    {
     "name": "stdout",
     "output_type": "stream",
     "text": [
      "Done Compiling Models\n"
     ]
    },
    {
     "name": "stderr",
     "output_type": "stream",
     "text": [
      "\n"
     ]
    }
   ],
   "source": [
    "#warm up model\n",
    "img = Image.open(\"data/datasets/places2/Places365_val_00000001.jpg\")\n",
    "img = img.resize((256, 256))\n",
    "img = np.array(img)\n",
    "mask = Image.open(\"data/masks/64/thick.png\")\n",
    "mask = mask.resize((256, 256), resample=Image.NEAREST)\n",
    "mask = np.array(mask)\n",
    "inpaint_image(img, mask, \"prmpt\", variant=\"base\")\n",
    "inpaint_image(img, mask, \"prmpt\", variant=\"repaint\")\n",
    "inpaint_image(img, mask, \"prmpt\", variant=\"repaint_inpaint\")\n",
    "print(\"Done Compiling Models\")"
   ]
  },
  {
   "cell_type": "code",
   "execution_count": 66,
   "metadata": {
    "executionInfo": {
     "elapsed": 5,
     "status": "ok",
     "timestamp": 1741669905133,
     "user": {
      "displayName": "Arnauld LINVANI",
      "userId": "15767780697894810406"
     },
     "user_tz": -60
    },
    "id": "x9v_KcWj_io1"
   },
   "outputs": [],
   "source": [
    "def process_input_with_mask(input_with_mask, prompt, guidance_scale, variant):\n",
    "    \"\"\"\n",
    "    Process an image with drawing mask and extract both components for inpainting.\n",
    "\n",
    "    Args:\n",
    "        input_with_mask: Image with alpha channel containing mask information\n",
    "        prompt: Text prompt for guiding the inpainting\n",
    "        guidance_scale: Scale factor for classifier-free guidance\n",
    "\n",
    "    Returns:\n",
    "        Inpainted image or error message\n",
    "    \"\"\"\n",
    "    print(variant)\n",
    "    # return \"function executed\"\n",
    "    # gr.Info(f\"Input Image Dict: {input_with_mask.keys()}\")\n",
    "    # gr.Info(f\"Background: {input_with_mask['background'].shape if isinstance(input_with_mask['background'], np.ndarray) else 'Invalid Image'}\")\n",
    "    # gr.Info(f\"Layers: {len(input_with_mask['layers'])}\")\n",
    "    # gr.Info(f\"Composite: {input_with_mask['composite'].shape if isinstance(input_with_mask['composite'], np.ndarray) else 'Invalid Image'}\")\n",
    "    # gr.Info(f\"Layer 1: {input_with_mask['layers'][0].shape if isinstance(input_with_mask['layers'][0], np.ndarray) else 'Invalid Image'}\")\n",
    "    # return input_with_mask['layers'][0]\n",
    "\n",
    "\n",
    "    # Check if there's any drawing on the image\n",
    "    if input_with_mask is None:\n",
    "        return \"Please upload an image first.\"\n",
    "    \n",
    "\n",
    "    if len(input_with_mask['background'].shape) == 3:\n",
    "        if len(input_with_mask['layers']) == 1:\n",
    "            # The 4th channel contains the mask (alpha channel)\n",
    "            original_image = input_with_mask['background'][:, :, :3]\n",
    "\n",
    "            # Extract mask from alpha channel, white (255) marks areas to inpaint\n",
    "            mask = input_with_mask['layers'][0]\n",
    "\n",
    "            # Check if any masking was done\n",
    "            if np.max(mask) == 0:\n",
    "                return \"Please draw on the image to create a mask for inpainting.\"\n",
    "\n",
    "            # Process the image and mask for inpainting\n",
    "            gr.Info(f\"Original Image: {original_image.shape}\")\n",
    "            gr.Info(f\"Mask: {mask.shape}\")\n",
    "            return inpaint_image(original_image, mask, prompt, guidance_scale, variant=variant, size=256)\n",
    "        else:\n",
    "            return \"The image doesn't have an alpha channel for masking. Please draw on the image.\"\n",
    "    else:\n",
    "        return \"Please upload a valid image and draw on it to create a mask.\"\n",
    "\n"
   ]
  },
  {
   "cell_type": "markdown",
   "metadata": {
    "id": "V0JZLKZb_io2"
   },
   "source": [
    "### Gradio Interface"
   ]
  },
  {
   "cell_type": "code",
   "execution_count": 67,
   "metadata": {
    "executionInfo": {
     "elapsed": 3,
     "status": "ok",
     "timestamp": 1741669905164,
     "user": {
      "displayName": "Arnauld LINVANI",
      "userId": "15767780697894810406"
     },
     "user_tz": -60
    },
    "id": "eA9SPYZ7_io2"
   },
   "outputs": [],
   "source": [
    "def create_gradio_interface():\n",
    "    \"\"\"Create the Gradio interface for the inpainting application.\"\"\"\n",
    "    with gr.Blocks(title=\"RePaint with GLIDE Text-Driven Inpainting\") as app:\n",
    "        gr.Markdown(\"# Text-Driven Image Inpainting with RePaint and GLIDE\")\n",
    "        gr.Markdown(\n",
    "            \"Upload an image, draw directly on it to create a mask (white areas will be inpainted), and enter a text prompt.\")\n",
    "\n",
    "        with gr.Row():\n",
    "            with gr.Column():\n",
    "                input_image = gr.ImageMask(label=\"Upload & Draw Mask (white areas will be inpainted)\",\n",
    "                                       image_mode=\"RGBA\",\n",
    "                                       type='numpy',\n",
    "                                       sources=('upload'),\t\n",
    "                                       interactive=True)\n",
    "\n",
    "                prompt = gr.Textbox(label=\"Text Prompt\", placeholder=\"Describe what should be in the masked area...\")\n",
    "                guidance_scale = gr.Slider(minimum=1.0, maximum=15.0, value=7.0, step=0.5,\n",
    "                                           label=\"Guidance Scale (higher = more text influence)\")\n",
    "                variant = gr.Radio([(\"Just Glide Inpainting\", \"base\"),(\"Glide model with repaint strategy\", \"repaint\"),(\"Glide Inpainting with repaint strategy\", \"repaint_inpaint\")],value=\"base\")\n",
    "                submit_btn = gr.Button(\"Generate Inpainting\")\n",
    "\n",
    "            with gr.Column():\n",
    "                output_image = gr.Image(label=\"Inpainted Result\")\n",
    "\n",
    "        submit_btn.click(\n",
    "            fn=process_input_with_mask,\n",
    "            inputs=[input_image, prompt, guidance_scale, variant],\n",
    "            outputs=output_image,\n",
    "        )\n",
    "\n",
    "        gr.Markdown(\"## How to use\")\n",
    "        gr.Markdown(\"\"\"\n",
    "        1. Upload an image\n",
    "        2. Draw directly on the image with white brush to create a mask (white areas will be inpainted)\n",
    "        3. Enter a text prompt describing what you want in the masked area\n",
    "        4. Click 'Generate Inpainting' and wait for the result\n",
    "        5. Adjust the guidance scale if needed (higher values follow the text more closely)\n",
    "\n",
    "        Tips:\n",
    "        - Use a larger brush radius for covering larger areas\n",
    "        - You can clear your drawing and start over using the clear button\n",
    "        - Be specific in your text prompt for best results\n",
    "        \"\"\")\n",
    "\n",
    "    return app"
   ]
  },
  {
   "cell_type": "code",
   "execution_count": 68,
   "metadata": {
    "colab": {
     "base_uri": "https://localhost:8080/",
     "height": 589
    },
    "executionInfo": {
     "elapsed": 2190,
     "status": "ok",
     "timestamp": 1741666975381,
     "user": {
      "displayName": "Arnauld LINVANI",
      "userId": "15767780697894810406"
     },
     "user_tz": -60
    },
    "id": "zh6PZ4jU_io2",
    "outputId": "c1d32129-bd8b-4080-ec3d-bb07a24ef437"
   },
   "outputs": [
    {
     "name": "stdout",
     "output_type": "stream",
     "text": [
      "* Running on local URL:  http://127.0.0.1:7860\n",
      "* Running on public URL: https://50636c1d24b1675b44.gradio.live\n",
      "\n",
      "This share link expires in 72 hours. For free permanent hosting and GPU upgrades, run `gradio deploy` from the terminal in the working directory to deploy to Hugging Face Spaces (https://huggingface.co/spaces)\n"
     ]
    },
    {
     "data": {
      "text/html": [
       "<div><iframe src=\"https://50636c1d24b1675b44.gradio.live\" width=\"100%\" height=\"500\" allow=\"autoplay; camera; microphone; clipboard-read; clipboard-write;\" frameborder=\"0\" allowfullscreen></iframe></div>"
      ],
      "text/plain": [
       "<IPython.core.display.HTML object>"
      ]
     },
     "metadata": {},
     "output_type": "display_data"
    },
    {
     "name": "stdout",
     "output_type": "stream",
     "text": [
      "base\n",
      "Generating inpainted image...\n",
      "CFGSampler\n"
     ]
    },
    {
     "name": "stderr",
     "output_type": "stream",
     "text": [
      "  0%|          | 0/250 [00:00<?, ?it/s]skipping cudagraphs due to skipping cudagraphs due to cpu device (arg793_1). Found from : \n",
      "   File \"/home/infres/kbrowder-24/jp/CSC_52002_EP_Generative_AI_Project/glide-text2im-main/glide_text2im/gaussian_diffusion.py\", line 340, in p_sample\n",
      "    out = self.p_mean_variance(\n",
      "  File \"/home/infres/kbrowder-24/jp/CSC_52002_EP_Generative_AI_Project/glide-text2im-main/glide_text2im/respace.py\", line 94, in p_mean_variance\n",
      "    return super().p_mean_variance(self._wrap_model(model), *args, **kwargs)\n",
      "  File \"/home/infres/kbrowder-24/jp/CSC_52002_EP_Generative_AI_Project/glide-text2im-main/glide_text2im/gaussian_diffusion.py\", line 242, in p_mean_variance\n",
      "    min_log = _extract_into_tensor(self.posterior_log_variance_clipped, t, x.shape)\n",
      "  File \"/home/infres/kbrowder-24/jp/CSC_52002_EP_Generative_AI_Project/glide-text2im-main/glide_text2im/gaussian_diffusion.py\", line 636, in _extract_into_tensor\n",
      "    res = th.from_numpy(arr).to(device=timesteps.device)[timesteps].float()\n",
      "\n",
      "100%|██████████| 250/250 [03:28<00:00,  1.20it/s]  \n",
      "100%|██████████| 250/250 [00:08<00:00, 31.10it/s]\n"
     ]
    },
    {
     "name": "stdout",
     "output_type": "stream",
     "text": [
      "base\n",
      "Generating inpainted image...\n",
      "CFGSampler\n"
     ]
    },
    {
     "name": "stderr",
     "output_type": "stream",
     "text": [
      "100%|██████████| 250/250 [00:06<00:00, 38.87it/s]\n",
      "100%|██████████| 250/250 [00:07<00:00, 32.29it/s]\n"
     ]
    },
    {
     "name": "stdout",
     "output_type": "stream",
     "text": [
      "base\n",
      "Generating inpainted image...\n",
      "CFGSampler\n"
     ]
    },
    {
     "name": "stderr",
     "output_type": "stream",
     "text": [
      "100%|██████████| 250/250 [00:06<00:00, 40.86it/s]\n",
      "100%|██████████| 250/250 [00:07<00:00, 32.20it/s]\n"
     ]
    },
    {
     "name": "stdout",
     "output_type": "stream",
     "text": [
      "base\n",
      "Generating inpainted image...\n",
      "CFGSampler\n"
     ]
    },
    {
     "name": "stderr",
     "output_type": "stream",
     "text": [
      "100%|██████████| 250/250 [00:06<00:00, 38.59it/s]\n",
      "100%|██████████| 250/250 [00:07<00:00, 32.08it/s]\n"
     ]
    },
    {
     "name": "stdout",
     "output_type": "stream",
     "text": [
      "base\n",
      "Generating inpainted image...\n",
      "CFGSampler\n"
     ]
    },
    {
     "name": "stderr",
     "output_type": "stream",
     "text": [
      "100%|██████████| 250/250 [00:06<00:00, 38.75it/s]\n",
      "100%|██████████| 250/250 [00:07<00:00, 32.02it/s]\n"
     ]
    },
    {
     "name": "stdout",
     "output_type": "stream",
     "text": [
      "base\n",
      "Generating inpainted image...\n",
      "CFGSampler\n"
     ]
    },
    {
     "name": "stderr",
     "output_type": "stream",
     "text": [
      "100%|██████████| 250/250 [00:06<00:00, 39.23it/s]\n",
      "100%|██████████| 250/250 [00:07<00:00, 32.58it/s]\n"
     ]
    },
    {
     "name": "stdout",
     "output_type": "stream",
     "text": [
      "repaint\n",
      "Generating inpainted image...\n",
      "CFGSampler\n",
      "times: [249, 248, 247, 246, 245, 244, 243, 242, 241, 240, 239, 238, 237, 236, 235, 234, 233, 232, 231, 230, 229, 228, 227, 226, 225, 224, 223, 222, 221, 220, 219, 218, 217, 216, 215, 214, 213, 212, 211, 210, 209, 208, 207, 206, 205, 204, 203, 202, 201, 200, 199, 198, 197, 196, 195, 194, 193, 192, 191, 190, 189, 188, 187, 186, 185, 184, 183, 182, 181, 180, 179, 178, 177, 176, 175, 174, 173, 172, 171, 170, 169, 168, 167, 166, 165, 164, 163, 162, 161, 160, 159, 158, 157, 156, 155, 154, 153, 152, 151, 150, 149, 148, 147, 146, 145, 144, 143, 142, 141, 140, 139, 138, 137, 136, 135, 134, 133, 132, 131, 130, 129, 128, 127, 126, 125, 124, 123, 122, 121, 120, 119, 118, 117, 116, 115, 114, 113, 112, 111, 110, 109, 108, 107, 106, 105, 104, 103, 102, 101, 100, 99, 98, 97, 96, 95, 94, 93, 92, 91, 90, 89, 88, 87, 86, 85, 84, 83, 82, 81, 80, 79, 78, 77, 76, 75, 74, 73, 72, 71, 70, 69, 68, 67, 66, 65, 64, 63, 62, 61, 60, 59, 58, 57, 56, 55, 54, 53, 52, 51, 50, 49, 48, 47, 46, 45, 44, 43, 42, 41, 40, 39, 38, 37, 36, 35, 34, 33, 32, 31, 30, 29, 28, 27, 26, 25, 24, 23, 22, 21, 20, 21, 20, 19, 20, 19, 18, 19, 18, 17, 18, 17, 16, 17, 16, 15, 16, 15, 14, 15, 14, 13, 14, 13, 12, 13, 12, 11, 12, 11, 10, 11, 10, 11, 12, 13, 14, 15, 16, 17, 18, 19, 20, 19, 20, 19, 18, 19, 18, 17, 18, 17, 16, 17, 16, 15, 16, 15, 14, 15, 14, 13, 14, 13, 12, 13, 12, 11, 12, 11, 10, 11, 10, 11, 12, 13, 14, 15, 16, 17, 18, 19, 20, 19, 20, 19, 18, 19, 18, 17, 18, 17, 16, 17, 16, 15, 16, 15, 14, 15, 14, 13, 14, 13, 12, 13, 12, 11, 12, 11, 10, 11, 10, 9, 10, 9, 8, 9, 8, 7, 8, 7, 6, 7, 6, 5, 6, 5, 4, 5, 4, 3, 4, 3, 2, 3, 2, 1, 2, 1, 0, 1, 0, 1, 2, 3, 4, 5, 6, 7, 8, 9, 10, 9, 10, 9, 8, 9, 8, 7, 8, 7, 6, 7, 6, 5, 6, 5, 4, 5, 4, 3, 4, 3, 2, 3, 2, 1, 2, 1, 0, 1, 0, 1, 2, 3, 4, 5, 6, 7, 8, 9, 10, 9, 10, 9, 8, 9, 8, 7, 8, 7, 6, 7, 6, 5, 6, 5, 4, 5, 4, 3, 4, 3, 2, 3, 2, 1, 2, 1, 0, 1, 0, -1]\n",
      "len(times): 453\n"
     ]
    },
    {
     "name": "stderr",
     "output_type": "stream",
     "text": [
      "100%|██████████| 452/452 [00:17<00:00, 26.37it/s]\n"
     ]
    },
    {
     "name": "stdout",
     "output_type": "stream",
     "text": [
      "times: [249, 248, 247, 246, 245, 244, 243, 242, 241, 240, 239, 238, 237, 236, 235, 234, 233, 232, 231, 230, 229, 228, 227, 226, 225, 224, 223, 222, 221, 220, 219, 218, 217, 216, 215, 214, 213, 212, 211, 210, 209, 208, 207, 206, 205, 204, 203, 202, 201, 200, 199, 198, 197, 196, 195, 194, 193, 192, 191, 190, 189, 188, 187, 186, 185, 184, 183, 182, 181, 180, 179, 178, 177, 176, 175, 174, 173, 172, 171, 170, 169, 168, 167, 166, 165, 164, 163, 162, 161, 160, 159, 158, 157, 156, 155, 154, 153, 152, 151, 150, 149, 148, 147, 146, 145, 144, 143, 142, 141, 140, 139, 138, 137, 136, 135, 134, 133, 132, 131, 130, 129, 128, 127, 126, 125, 124, 123, 122, 121, 120, 119, 118, 117, 116, 115, 114, 113, 112, 111, 110, 109, 108, 107, 106, 105, 104, 103, 102, 101, 100, 99, 98, 97, 96, 95, 94, 93, 92, 91, 90, 89, 88, 87, 86, 85, 84, 83, 82, 81, 80, 79, 78, 77, 76, 75, 74, 73, 72, 71, 70, 69, 68, 67, 66, 65, 64, 63, 62, 61, 60, 59, 58, 57, 56, 55, 54, 53, 52, 51, 50, 49, 48, 47, 46, 45, 44, 43, 42, 41, 40, 39, 38, 37, 36, 35, 34, 33, 32, 31, 30, 29, 28, 27, 26, 25, 24, 23, 22, 21, 20, 21, 20, 19, 20, 19, 18, 19, 18, 17, 18, 17, 16, 17, 16, 15, 16, 15, 14, 15, 14, 13, 14, 13, 12, 13, 12, 11, 12, 11, 10, 11, 10, 11, 12, 13, 14, 15, 16, 17, 18, 19, 20, 19, 20, 19, 18, 19, 18, 17, 18, 17, 16, 17, 16, 15, 16, 15, 14, 15, 14, 13, 14, 13, 12, 13, 12, 11, 12, 11, 10, 11, 10, 11, 12, 13, 14, 15, 16, 17, 18, 19, 20, 19, 20, 19, 18, 19, 18, 17, 18, 17, 16, 17, 16, 15, 16, 15, 14, 15, 14, 13, 14, 13, 12, 13, 12, 11, 12, 11, 10, 11, 10, 9, 10, 9, 8, 9, 8, 7, 8, 7, 6, 7, 6, 5, 6, 5, 4, 5, 4, 3, 4, 3, 2, 3, 2, 1, 2, 1, 0, 1, 0, 1, 2, 3, 4, 5, 6, 7, 8, 9, 10, 9, 10, 9, 8, 9, 8, 7, 8, 7, 6, 7, 6, 5, 6, 5, 4, 5, 4, 3, 4, 3, 2, 3, 2, 1, 2, 1, 0, 1, 0, 1, 2, 3, 4, 5, 6, 7, 8, 9, 10, 9, 10, 9, 8, 9, 8, 7, 8, 7, 6, 7, 6, 5, 6, 5, 4, 5, 4, 3, 4, 3, 2, 3, 2, 1, 2, 1, 0, 1, 0, -1]\n",
      "len(times): 453\n"
     ]
    },
    {
     "name": "stderr",
     "output_type": "stream",
     "text": [
      "100%|██████████| 452/452 [00:21<00:00, 21.28it/s]\n"
     ]
    },
    {
     "name": "stdout",
     "output_type": "stream",
     "text": [
      "repaint\n",
      "Generating inpainted image...\n",
      "CFGSampler\n",
      "times: [249, 248, 247, 246, 245, 244, 243, 242, 241, 240, 239, 238, 237, 236, 235, 234, 233, 232, 231, 230, 229, 228, 227, 226, 225, 224, 223, 222, 221, 220, 219, 218, 217, 216, 215, 214, 213, 212, 211, 210, 209, 208, 207, 206, 205, 204, 203, 202, 201, 200, 199, 198, 197, 196, 195, 194, 193, 192, 191, 190, 189, 188, 187, 186, 185, 184, 183, 182, 181, 180, 179, 178, 177, 176, 175, 174, 173, 172, 171, 170, 169, 168, 167, 166, 165, 164, 163, 162, 161, 160, 159, 158, 157, 156, 155, 154, 153, 152, 151, 150, 149, 148, 147, 146, 145, 144, 143, 142, 141, 140, 139, 138, 137, 136, 135, 134, 133, 132, 131, 130, 129, 128, 127, 126, 125, 124, 123, 122, 121, 120, 119, 118, 117, 116, 115, 114, 113, 112, 111, 110, 109, 108, 107, 106, 105, 104, 103, 102, 101, 100, 99, 98, 97, 96, 95, 94, 93, 92, 91, 90, 89, 88, 87, 86, 85, 84, 83, 82, 81, 80, 79, 78, 77, 76, 75, 74, 73, 72, 71, 70, 69, 68, 67, 66, 65, 64, 63, 62, 61, 60, 59, 58, 57, 56, 55, 54, 53, 52, 51, 50, 49, 48, 47, 46, 45, 44, 43, 42, 41, 40, 39, 38, 37, 36, 35, 34, 33, 32, 31, 30, 29, 28, 27, 26, 25, 24, 23, 22, 21, 20, 21, 20, 19, 20, 19, 18, 19, 18, 17, 18, 17, 16, 17, 16, 15, 16, 15, 14, 15, 14, 13, 14, 13, 12, 13, 12, 11, 12, 11, 10, 11, 10, 11, 12, 13, 14, 15, 16, 17, 18, 19, 20, 19, 20, 19, 18, 19, 18, 17, 18, 17, 16, 17, 16, 15, 16, 15, 14, 15, 14, 13, 14, 13, 12, 13, 12, 11, 12, 11, 10, 11, 10, 11, 12, 13, 14, 15, 16, 17, 18, 19, 20, 19, 20, 19, 18, 19, 18, 17, 18, 17, 16, 17, 16, 15, 16, 15, 14, 15, 14, 13, 14, 13, 12, 13, 12, 11, 12, 11, 10, 11, 10, 9, 10, 9, 8, 9, 8, 7, 8, 7, 6, 7, 6, 5, 6, 5, 4, 5, 4, 3, 4, 3, 2, 3, 2, 1, 2, 1, 0, 1, 0, 1, 2, 3, 4, 5, 6, 7, 8, 9, 10, 9, 10, 9, 8, 9, 8, 7, 8, 7, 6, 7, 6, 5, 6, 5, 4, 5, 4, 3, 4, 3, 2, 3, 2, 1, 2, 1, 0, 1, 0, 1, 2, 3, 4, 5, 6, 7, 8, 9, 10, 9, 10, 9, 8, 9, 8, 7, 8, 7, 6, 7, 6, 5, 6, 5, 4, 5, 4, 3, 4, 3, 2, 3, 2, 1, 2, 1, 0, 1, 0, -1]\n",
      "len(times): 453\n"
     ]
    },
    {
     "name": "stderr",
     "output_type": "stream",
     "text": [
      "100%|██████████| 452/452 [00:17<00:00, 26.57it/s]\n"
     ]
    },
    {
     "name": "stdout",
     "output_type": "stream",
     "text": [
      "times: [249, 248, 247, 246, 245, 244, 243, 242, 241, 240, 239, 238, 237, 236, 235, 234, 233, 232, 231, 230, 229, 228, 227, 226, 225, 224, 223, 222, 221, 220, 219, 218, 217, 216, 215, 214, 213, 212, 211, 210, 209, 208, 207, 206, 205, 204, 203, 202, 201, 200, 199, 198, 197, 196, 195, 194, 193, 192, 191, 190, 189, 188, 187, 186, 185, 184, 183, 182, 181, 180, 179, 178, 177, 176, 175, 174, 173, 172, 171, 170, 169, 168, 167, 166, 165, 164, 163, 162, 161, 160, 159, 158, 157, 156, 155, 154, 153, 152, 151, 150, 149, 148, 147, 146, 145, 144, 143, 142, 141, 140, 139, 138, 137, 136, 135, 134, 133, 132, 131, 130, 129, 128, 127, 126, 125, 124, 123, 122, 121, 120, 119, 118, 117, 116, 115, 114, 113, 112, 111, 110, 109, 108, 107, 106, 105, 104, 103, 102, 101, 100, 99, 98, 97, 96, 95, 94, 93, 92, 91, 90, 89, 88, 87, 86, 85, 84, 83, 82, 81, 80, 79, 78, 77, 76, 75, 74, 73, 72, 71, 70, 69, 68, 67, 66, 65, 64, 63, 62, 61, 60, 59, 58, 57, 56, 55, 54, 53, 52, 51, 50, 49, 48, 47, 46, 45, 44, 43, 42, 41, 40, 39, 38, 37, 36, 35, 34, 33, 32, 31, 30, 29, 28, 27, 26, 25, 24, 23, 22, 21, 20, 21, 20, 19, 20, 19, 18, 19, 18, 17, 18, 17, 16, 17, 16, 15, 16, 15, 14, 15, 14, 13, 14, 13, 12, 13, 12, 11, 12, 11, 10, 11, 10, 11, 12, 13, 14, 15, 16, 17, 18, 19, 20, 19, 20, 19, 18, 19, 18, 17, 18, 17, 16, 17, 16, 15, 16, 15, 14, 15, 14, 13, 14, 13, 12, 13, 12, 11, 12, 11, 10, 11, 10, 11, 12, 13, 14, 15, 16, 17, 18, 19, 20, 19, 20, 19, 18, 19, 18, 17, 18, 17, 16, 17, 16, 15, 16, 15, 14, 15, 14, 13, 14, 13, 12, 13, 12, 11, 12, 11, 10, 11, 10, 9, 10, 9, 8, 9, 8, 7, 8, 7, 6, 7, 6, 5, 6, 5, 4, 5, 4, 3, 4, 3, 2, 3, 2, 1, 2, 1, 0, 1, 0, 1, 2, 3, 4, 5, 6, 7, 8, 9, 10, 9, 10, 9, 8, 9, 8, 7, 8, 7, 6, 7, 6, 5, 6, 5, 4, 5, 4, 3, 4, 3, 2, 3, 2, 1, 2, 1, 0, 1, 0, 1, 2, 3, 4, 5, 6, 7, 8, 9, 10, 9, 10, 9, 8, 9, 8, 7, 8, 7, 6, 7, 6, 5, 6, 5, 4, 5, 4, 3, 4, 3, 2, 3, 2, 1, 2, 1, 0, 1, 0, -1]\n",
      "len(times): 453\n"
     ]
    },
    {
     "name": "stderr",
     "output_type": "stream",
     "text": [
      "100%|██████████| 452/452 [00:21<00:00, 21.27it/s]\n"
     ]
    },
    {
     "name": "stdout",
     "output_type": "stream",
     "text": [
      "repaint_inpaint\n",
      "Generating inpainted image...\n",
      "CFGSampler\n",
      "times: [249, 248, 247, 246, 245, 244, 243, 242, 241, 240, 239, 238, 237, 236, 235, 234, 233, 232, 231, 230, 229, 228, 227, 226, 225, 224, 223, 222, 221, 220, 219, 218, 217, 216, 215, 214, 213, 212, 211, 210, 209, 208, 207, 206, 205, 204, 203, 202, 201, 200, 199, 198, 197, 196, 195, 194, 193, 192, 191, 190, 189, 188, 187, 186, 185, 184, 183, 182, 181, 180, 179, 178, 177, 176, 175, 174, 173, 172, 171, 170, 169, 168, 167, 166, 165, 164, 163, 162, 161, 160, 159, 158, 157, 156, 155, 154, 153, 152, 151, 150, 149, 148, 147, 146, 145, 144, 143, 142, 141, 140, 139, 138, 137, 136, 135, 134, 133, 132, 131, 130, 129, 128, 127, 126, 125, 124, 123, 122, 121, 120, 119, 118, 117, 116, 115, 114, 113, 112, 111, 110, 109, 108, 107, 106, 105, 104, 103, 102, 101, 100, 99, 98, 97, 96, 95, 94, 93, 92, 91, 90, 89, 88, 87, 86, 85, 84, 83, 82, 81, 80, 79, 78, 77, 76, 75, 74, 73, 72, 71, 70, 69, 68, 67, 66, 65, 64, 63, 62, 61, 60, 59, 58, 57, 56, 55, 54, 53, 52, 51, 50, 49, 48, 47, 46, 45, 44, 43, 42, 41, 40, 39, 38, 37, 36, 35, 34, 33, 32, 31, 30, 29, 28, 27, 26, 25, 24, 23, 22, 21, 20, 21, 20, 19, 20, 19, 18, 19, 18, 17, 18, 17, 16, 17, 16, 15, 16, 15, 14, 15, 14, 13, 14, 13, 12, 13, 12, 11, 12, 11, 10, 11, 10, 11, 12, 13, 14, 15, 16, 17, 18, 19, 20, 19, 20, 19, 18, 19, 18, 17, 18, 17, 16, 17, 16, 15, 16, 15, 14, 15, 14, 13, 14, 13, 12, 13, 12, 11, 12, 11, 10, 11, 10, 11, 12, 13, 14, 15, 16, 17, 18, 19, 20, 19, 20, 19, 18, 19, 18, 17, 18, 17, 16, 17, 16, 15, 16, 15, 14, 15, 14, 13, 14, 13, 12, 13, 12, 11, 12, 11, 10, 11, 10, 9, 10, 9, 8, 9, 8, 7, 8, 7, 6, 7, 6, 5, 6, 5, 4, 5, 4, 3, 4, 3, 2, 3, 2, 1, 2, 1, 0, 1, 0, 1, 2, 3, 4, 5, 6, 7, 8, 9, 10, 9, 10, 9, 8, 9, 8, 7, 8, 7, 6, 7, 6, 5, 6, 5, 4, 5, 4, 3, 4, 3, 2, 3, 2, 1, 2, 1, 0, 1, 0, 1, 2, 3, 4, 5, 6, 7, 8, 9, 10, 9, 10, 9, 8, 9, 8, 7, 8, 7, 6, 7, 6, 5, 6, 5, 4, 5, 4, 3, 4, 3, 2, 3, 2, 1, 2, 1, 0, 1, 0, -1]\n",
      "len(times): 453\n"
     ]
    },
    {
     "name": "stderr",
     "output_type": "stream",
     "text": [
      "100%|██████████| 452/452 [00:17<00:00, 26.25it/s]\n"
     ]
    },
    {
     "name": "stdout",
     "output_type": "stream",
     "text": [
      "times: [249, 248, 247, 246, 245, 244, 243, 242, 241, 240, 239, 238, 237, 236, 235, 234, 233, 232, 231, 230, 229, 228, 227, 226, 225, 224, 223, 222, 221, 220, 219, 218, 217, 216, 215, 214, 213, 212, 211, 210, 209, 208, 207, 206, 205, 204, 203, 202, 201, 200, 199, 198, 197, 196, 195, 194, 193, 192, 191, 190, 189, 188, 187, 186, 185, 184, 183, 182, 181, 180, 179, 178, 177, 176, 175, 174, 173, 172, 171, 170, 169, 168, 167, 166, 165, 164, 163, 162, 161, 160, 159, 158, 157, 156, 155, 154, 153, 152, 151, 150, 149, 148, 147, 146, 145, 144, 143, 142, 141, 140, 139, 138, 137, 136, 135, 134, 133, 132, 131, 130, 129, 128, 127, 126, 125, 124, 123, 122, 121, 120, 119, 118, 117, 116, 115, 114, 113, 112, 111, 110, 109, 108, 107, 106, 105, 104, 103, 102, 101, 100, 99, 98, 97, 96, 95, 94, 93, 92, 91, 90, 89, 88, 87, 86, 85, 84, 83, 82, 81, 80, 79, 78, 77, 76, 75, 74, 73, 72, 71, 70, 69, 68, 67, 66, 65, 64, 63, 62, 61, 60, 59, 58, 57, 56, 55, 54, 53, 52, 51, 50, 49, 48, 47, 46, 45, 44, 43, 42, 41, 40, 39, 38, 37, 36, 35, 34, 33, 32, 31, 30, 29, 28, 27, 26, 25, 24, 23, 22, 21, 20, 21, 20, 19, 20, 19, 18, 19, 18, 17, 18, 17, 16, 17, 16, 15, 16, 15, 14, 15, 14, 13, 14, 13, 12, 13, 12, 11, 12, 11, 10, 11, 10, 11, 12, 13, 14, 15, 16, 17, 18, 19, 20, 19, 20, 19, 18, 19, 18, 17, 18, 17, 16, 17, 16, 15, 16, 15, 14, 15, 14, 13, 14, 13, 12, 13, 12, 11, 12, 11, 10, 11, 10, 11, 12, 13, 14, 15, 16, 17, 18, 19, 20, 19, 20, 19, 18, 19, 18, 17, 18, 17, 16, 17, 16, 15, 16, 15, 14, 15, 14, 13, 14, 13, 12, 13, 12, 11, 12, 11, 10, 11, 10, 9, 10, 9, 8, 9, 8, 7, 8, 7, 6, 7, 6, 5, 6, 5, 4, 5, 4, 3, 4, 3, 2, 3, 2, 1, 2, 1, 0, 1, 0, 1, 2, 3, 4, 5, 6, 7, 8, 9, 10, 9, 10, 9, 8, 9, 8, 7, 8, 7, 6, 7, 6, 5, 6, 5, 4, 5, 4, 3, 4, 3, 2, 3, 2, 1, 2, 1, 0, 1, 0, 1, 2, 3, 4, 5, 6, 7, 8, 9, 10, 9, 10, 9, 8, 9, 8, 7, 8, 7, 6, 7, 6, 5, 6, 5, 4, 5, 4, 3, 4, 3, 2, 3, 2, 1, 2, 1, 0, 1, 0, -1]\n",
      "len(times): 453\n"
     ]
    },
    {
     "name": "stderr",
     "output_type": "stream",
     "text": [
      "100%|██████████| 452/452 [00:21<00:00, 21.20it/s]\n"
     ]
    },
    {
     "name": "stdout",
     "output_type": "stream",
     "text": [
      "base\n",
      "Generating inpainted image...\n",
      "CFGSampler\n"
     ]
    },
    {
     "name": "stderr",
     "output_type": "stream",
     "text": [
      "  0%|          | 0/250 [00:00<?, ?it/s]skipping cudagraphs due to skipping cudagraphs due to cpu device (arg793_1). Found from : \n",
      "   File \"/home/infres/kbrowder-24/jp/CSC_52002_EP_Generative_AI_Project/glide-text2im-main/glide_text2im/gaussian_diffusion.py\", line 340, in p_sample\n",
      "    out = self.p_mean_variance(\n",
      "  File \"/home/infres/kbrowder-24/jp/CSC_52002_EP_Generative_AI_Project/glide-text2im-main/glide_text2im/respace.py\", line 94, in p_mean_variance\n",
      "    return super().p_mean_variance(self._wrap_model(model), *args, **kwargs)\n",
      "  File \"/home/infres/kbrowder-24/jp/CSC_52002_EP_Generative_AI_Project/glide-text2im-main/glide_text2im/gaussian_diffusion.py\", line 242, in p_mean_variance\n",
      "    min_log = _extract_into_tensor(self.posterior_log_variance_clipped, t, x.shape)\n",
      "  File \"/home/infres/kbrowder-24/jp/CSC_52002_EP_Generative_AI_Project/glide-text2im-main/glide_text2im/gaussian_diffusion.py\", line 636, in _extract_into_tensor\n",
      "    res = th.from_numpy(arr).to(device=timesteps.device)[timesteps].float()\n",
      "\n",
      "100%|██████████| 250/250 [03:35<00:00,  1.16it/s]  \n",
      "100%|██████████| 250/250 [00:07<00:00, 32.17it/s]\n"
     ]
    },
    {
     "name": "stdout",
     "output_type": "stream",
     "text": [
      "repaint_inpaint\n",
      "Generating inpainted image...\n",
      "CFGSampler\n",
      "times: [249, 248, 247, 246, 245, 244, 243, 242, 241, 240, 239, 238, 237, 236, 235, 234, 233, 232, 231, 230, 229, 228, 227, 226, 225, 224, 223, 222, 221, 220, 219, 218, 217, 216, 215, 214, 213, 212, 211, 210, 209, 208, 207, 206, 205, 204, 203, 202, 201, 200, 199, 198, 197, 196, 195, 194, 193, 192, 191, 190, 189, 188, 187, 186, 185, 184, 183, 182, 181, 180, 179, 178, 177, 176, 175, 174, 173, 172, 171, 170, 169, 168, 167, 166, 165, 164, 163, 162, 161, 160, 159, 158, 157, 156, 155, 154, 153, 152, 151, 150, 149, 148, 147, 146, 145, 144, 143, 142, 141, 140, 139, 138, 137, 136, 135, 134, 133, 132, 131, 130, 129, 128, 127, 126, 125, 124, 123, 122, 121, 120, 119, 118, 117, 116, 115, 114, 113, 112, 111, 110, 109, 108, 107, 106, 105, 104, 103, 102, 101, 100, 99, 98, 97, 96, 95, 94, 93, 92, 91, 90, 89, 88, 87, 86, 85, 84, 83, 82, 81, 80, 79, 78, 77, 76, 75, 74, 73, 72, 71, 70, 69, 68, 67, 66, 65, 64, 63, 62, 61, 60, 59, 58, 57, 56, 55, 54, 53, 52, 51, 50, 49, 48, 47, 46, 45, 44, 43, 42, 41, 40, 39, 38, 37, 36, 35, 34, 33, 32, 31, 30, 29, 28, 27, 26, 25, 24, 23, 22, 21, 20, 21, 20, 19, 20, 19, 18, 19, 18, 17, 18, 17, 16, 17, 16, 15, 16, 15, 14, 15, 14, 13, 14, 13, 12, 13, 12, 11, 12, 11, 10, 11, 10, 11, 12, 13, 14, 15, 16, 17, 18, 19, 20, 19, 20, 19, 18, 19, 18, 17, 18, 17, 16, 17, 16, 15, 16, 15, 14, 15, 14, 13, 14, 13, 12, 13, 12, 11, 12, 11, 10, 11, 10, 11, 12, 13, 14, 15, 16, 17, 18, 19, 20, 19, 20, 19, 18, 19, 18, 17, 18, 17, 16, 17, 16, 15, 16, 15, 14, 15, 14, 13, 14, 13, 12, 13, 12, 11, 12, 11, 10, 11, 10, 9, 10, 9, 8, 9, 8, 7, 8, 7, 6, 7, 6, 5, 6, 5, 4, 5, 4, 3, 4, 3, 2, 3, 2, 1, 2, 1, 0, 1, 0, 1, 2, 3, 4, 5, 6, 7, 8, 9, 10, 9, 10, 9, 8, 9, 8, 7, 8, 7, 6, 7, 6, 5, 6, 5, 4, 5, 4, 3, 4, 3, 2, 3, 2, 1, 2, 1, 0, 1, 0, 1, 2, 3, 4, 5, 6, 7, 8, 9, 10, 9, 10, 9, 8, 9, 8, 7, 8, 7, 6, 7, 6, 5, 6, 5, 4, 5, 4, 3, 4, 3, 2, 3, 2, 1, 2, 1, 0, 1, 0, -1]\n",
      "len(times): 453\n"
     ]
    },
    {
     "name": "stderr",
     "output_type": "stream",
     "text": [
      "100%|██████████| 452/452 [00:17<00:00, 25.95it/s]\n"
     ]
    },
    {
     "name": "stdout",
     "output_type": "stream",
     "text": [
      "times: [249, 248, 247, 246, 245, 244, 243, 242, 241, 240, 239, 238, 237, 236, 235, 234, 233, 232, 231, 230, 229, 228, 227, 226, 225, 224, 223, 222, 221, 220, 219, 218, 217, 216, 215, 214, 213, 212, 211, 210, 209, 208, 207, 206, 205, 204, 203, 202, 201, 200, 199, 198, 197, 196, 195, 194, 193, 192, 191, 190, 189, 188, 187, 186, 185, 184, 183, 182, 181, 180, 179, 178, 177, 176, 175, 174, 173, 172, 171, 170, 169, 168, 167, 166, 165, 164, 163, 162, 161, 160, 159, 158, 157, 156, 155, 154, 153, 152, 151, 150, 149, 148, 147, 146, 145, 144, 143, 142, 141, 140, 139, 138, 137, 136, 135, 134, 133, 132, 131, 130, 129, 128, 127, 126, 125, 124, 123, 122, 121, 120, 119, 118, 117, 116, 115, 114, 113, 112, 111, 110, 109, 108, 107, 106, 105, 104, 103, 102, 101, 100, 99, 98, 97, 96, 95, 94, 93, 92, 91, 90, 89, 88, 87, 86, 85, 84, 83, 82, 81, 80, 79, 78, 77, 76, 75, 74, 73, 72, 71, 70, 69, 68, 67, 66, 65, 64, 63, 62, 61, 60, 59, 58, 57, 56, 55, 54, 53, 52, 51, 50, 49, 48, 47, 46, 45, 44, 43, 42, 41, 40, 39, 38, 37, 36, 35, 34, 33, 32, 31, 30, 29, 28, 27, 26, 25, 24, 23, 22, 21, 20, 21, 20, 19, 20, 19, 18, 19, 18, 17, 18, 17, 16, 17, 16, 15, 16, 15, 14, 15, 14, 13, 14, 13, 12, 13, 12, 11, 12, 11, 10, 11, 10, 11, 12, 13, 14, 15, 16, 17, 18, 19, 20, 19, 20, 19, 18, 19, 18, 17, 18, 17, 16, 17, 16, 15, 16, 15, 14, 15, 14, 13, 14, 13, 12, 13, 12, 11, 12, 11, 10, 11, 10, 11, 12, 13, 14, 15, 16, 17, 18, 19, 20, 19, 20, 19, 18, 19, 18, 17, 18, 17, 16, 17, 16, 15, 16, 15, 14, 15, 14, 13, 14, 13, 12, 13, 12, 11, 12, 11, 10, 11, 10, 9, 10, 9, 8, 9, 8, 7, 8, 7, 6, 7, 6, 5, 6, 5, 4, 5, 4, 3, 4, 3, 2, 3, 2, 1, 2, 1, 0, 1, 0, 1, 2, 3, 4, 5, 6, 7, 8, 9, 10, 9, 10, 9, 8, 9, 8, 7, 8, 7, 6, 7, 6, 5, 6, 5, 4, 5, 4, 3, 4, 3, 2, 3, 2, 1, 2, 1, 0, 1, 0, 1, 2, 3, 4, 5, 6, 7, 8, 9, 10, 9, 10, 9, 8, 9, 8, 7, 8, 7, 6, 7, 6, 5, 6, 5, 4, 5, 4, 3, 4, 3, 2, 3, 2, 1, 2, 1, 0, 1, 0, -1]\n",
      "len(times): 453\n"
     ]
    },
    {
     "name": "stderr",
     "output_type": "stream",
     "text": [
      "100%|██████████| 452/452 [00:21<00:00, 21.05it/s]\n"
     ]
    },
    {
     "name": "stdout",
     "output_type": "stream",
     "text": [
      "repaint_inpaint\n",
      "Generating inpainted image...\n",
      "CFGSampler\n",
      "times: [249, 248, 247, 246, 245, 244, 243, 242, 241, 240, 239, 238, 237, 236, 235, 234, 233, 232, 231, 230, 229, 228, 227, 226, 225, 224, 223, 222, 221, 220, 219, 218, 217, 216, 215, 214, 213, 212, 211, 210, 209, 208, 207, 206, 205, 204, 203, 202, 201, 200, 199, 198, 197, 196, 195, 194, 193, 192, 191, 190, 189, 188, 187, 186, 185, 184, 183, 182, 181, 180, 179, 178, 177, 176, 175, 174, 173, 172, 171, 170, 169, 168, 167, 166, 165, 164, 163, 162, 161, 160, 159, 158, 157, 156, 155, 154, 153, 152, 151, 150, 149, 148, 147, 146, 145, 144, 143, 142, 141, 140, 139, 138, 137, 136, 135, 134, 133, 132, 131, 130, 129, 128, 127, 126, 125, 124, 123, 122, 121, 120, 119, 118, 117, 116, 115, 114, 113, 112, 111, 110, 109, 108, 107, 106, 105, 104, 103, 102, 101, 100, 99, 98, 97, 96, 95, 94, 93, 92, 91, 90, 89, 88, 87, 86, 85, 84, 83, 82, 81, 80, 79, 78, 77, 76, 75, 74, 73, 72, 71, 70, 69, 68, 67, 66, 65, 64, 63, 62, 61, 60, 59, 58, 57, 56, 55, 54, 53, 52, 51, 50, 49, 48, 47, 46, 45, 44, 43, 42, 41, 40, 39, 38, 37, 36, 35, 34, 33, 32, 31, 30, 29, 28, 27, 26, 25, 24, 23, 22, 21, 20, 21, 20, 19, 20, 19, 18, 19, 18, 17, 18, 17, 16, 17, 16, 15, 16, 15, 14, 15, 14, 13, 14, 13, 12, 13, 12, 11, 12, 11, 10, 11, 10, 11, 12, 13, 14, 15, 16, 17, 18, 19, 20, 19, 20, 19, 18, 19, 18, 17, 18, 17, 16, 17, 16, 15, 16, 15, 14, 15, 14, 13, 14, 13, 12, 13, 12, 11, 12, 11, 10, 11, 10, 11, 12, 13, 14, 15, 16, 17, 18, 19, 20, 19, 20, 19, 18, 19, 18, 17, 18, 17, 16, 17, 16, 15, 16, 15, 14, 15, 14, 13, 14, 13, 12, 13, 12, 11, 12, 11, 10, 11, 10, 9, 10, 9, 8, 9, 8, 7, 8, 7, 6, 7, 6, 5, 6, 5, 4, 5, 4, 3, 4, 3, 2, 3, 2, 1, 2, 1, 0, 1, 0, 1, 2, 3, 4, 5, 6, 7, 8, 9, 10, 9, 10, 9, 8, 9, 8, 7, 8, 7, 6, 7, 6, 5, 6, 5, 4, 5, 4, 3, 4, 3, 2, 3, 2, 1, 2, 1, 0, 1, 0, 1, 2, 3, 4, 5, 6, 7, 8, 9, 10, 9, 10, 9, 8, 9, 8, 7, 8, 7, 6, 7, 6, 5, 6, 5, 4, 5, 4, 3, 4, 3, 2, 3, 2, 1, 2, 1, 0, 1, 0, -1]\n",
      "len(times): 453\n"
     ]
    },
    {
     "name": "stderr",
     "output_type": "stream",
     "text": [
      "100%|██████████| 452/452 [00:17<00:00, 25.89it/s]\n"
     ]
    },
    {
     "name": "stdout",
     "output_type": "stream",
     "text": [
      "times: [249, 248, 247, 246, 245, 244, 243, 242, 241, 240, 239, 238, 237, 236, 235, 234, 233, 232, 231, 230, 229, 228, 227, 226, 225, 224, 223, 222, 221, 220, 219, 218, 217, 216, 215, 214, 213, 212, 211, 210, 209, 208, 207, 206, 205, 204, 203, 202, 201, 200, 199, 198, 197, 196, 195, 194, 193, 192, 191, 190, 189, 188, 187, 186, 185, 184, 183, 182, 181, 180, 179, 178, 177, 176, 175, 174, 173, 172, 171, 170, 169, 168, 167, 166, 165, 164, 163, 162, 161, 160, 159, 158, 157, 156, 155, 154, 153, 152, 151, 150, 149, 148, 147, 146, 145, 144, 143, 142, 141, 140, 139, 138, 137, 136, 135, 134, 133, 132, 131, 130, 129, 128, 127, 126, 125, 124, 123, 122, 121, 120, 119, 118, 117, 116, 115, 114, 113, 112, 111, 110, 109, 108, 107, 106, 105, 104, 103, 102, 101, 100, 99, 98, 97, 96, 95, 94, 93, 92, 91, 90, 89, 88, 87, 86, 85, 84, 83, 82, 81, 80, 79, 78, 77, 76, 75, 74, 73, 72, 71, 70, 69, 68, 67, 66, 65, 64, 63, 62, 61, 60, 59, 58, 57, 56, 55, 54, 53, 52, 51, 50, 49, 48, 47, 46, 45, 44, 43, 42, 41, 40, 39, 38, 37, 36, 35, 34, 33, 32, 31, 30, 29, 28, 27, 26, 25, 24, 23, 22, 21, 20, 21, 20, 19, 20, 19, 18, 19, 18, 17, 18, 17, 16, 17, 16, 15, 16, 15, 14, 15, 14, 13, 14, 13, 12, 13, 12, 11, 12, 11, 10, 11, 10, 11, 12, 13, 14, 15, 16, 17, 18, 19, 20, 19, 20, 19, 18, 19, 18, 17, 18, 17, 16, 17, 16, 15, 16, 15, 14, 15, 14, 13, 14, 13, 12, 13, 12, 11, 12, 11, 10, 11, 10, 11, 12, 13, 14, 15, 16, 17, 18, 19, 20, 19, 20, 19, 18, 19, 18, 17, 18, 17, 16, 17, 16, 15, 16, 15, 14, 15, 14, 13, 14, 13, 12, 13, 12, 11, 12, 11, 10, 11, 10, 9, 10, 9, 8, 9, 8, 7, 8, 7, 6, 7, 6, 5, 6, 5, 4, 5, 4, 3, 4, 3, 2, 3, 2, 1, 2, 1, 0, 1, 0, 1, 2, 3, 4, 5, 6, 7, 8, 9, 10, 9, 10, 9, 8, 9, 8, 7, 8, 7, 6, 7, 6, 5, 6, 5, 4, 5, 4, 3, 4, 3, 2, 3, 2, 1, 2, 1, 0, 1, 0, 1, 2, 3, 4, 5, 6, 7, 8, 9, 10, 9, 10, 9, 8, 9, 8, 7, 8, 7, 6, 7, 6, 5, 6, 5, 4, 5, 4, 3, 4, 3, 2, 3, 2, 1, 2, 1, 0, 1, 0, -1]\n",
      "len(times): 453\n"
     ]
    },
    {
     "name": "stderr",
     "output_type": "stream",
     "text": [
      "100%|██████████| 452/452 [00:21<00:00, 21.02it/s]\n"
     ]
    },
    {
     "name": "stdout",
     "output_type": "stream",
     "text": [
      "repaint_inpaint\n",
      "Generating inpainted image...\n",
      "CFGSampler\n",
      "times: [249, 248, 247, 246, 245, 244, 243, 242, 241, 240, 239, 238, 237, 236, 235, 234, 233, 232, 231, 230, 229, 228, 227, 226, 225, 224, 223, 222, 221, 220, 219, 218, 217, 216, 215, 214, 213, 212, 211, 210, 209, 208, 207, 206, 205, 204, 203, 202, 201, 200, 199, 198, 197, 196, 195, 194, 193, 192, 191, 190, 189, 188, 187, 186, 185, 184, 183, 182, 181, 180, 179, 178, 177, 176, 175, 174, 173, 172, 171, 170, 169, 168, 167, 166, 165, 164, 163, 162, 161, 160, 159, 158, 157, 156, 155, 154, 153, 152, 151, 150, 149, 148, 147, 146, 145, 144, 143, 142, 141, 140, 139, 138, 137, 136, 135, 134, 133, 132, 131, 130, 129, 128, 127, 126, 125, 124, 123, 122, 121, 120, 119, 118, 117, 116, 115, 114, 113, 112, 111, 110, 109, 108, 107, 106, 105, 104, 103, 102, 101, 100, 99, 98, 97, 96, 95, 94, 93, 92, 91, 90, 89, 88, 87, 86, 85, 84, 83, 82, 81, 80, 79, 78, 77, 76, 75, 74, 73, 72, 71, 70, 69, 68, 67, 66, 65, 64, 63, 62, 61, 60, 59, 58, 57, 56, 55, 54, 53, 52, 51, 50, 49, 48, 47, 46, 45, 44, 43, 42, 41, 40, 39, 38, 37, 36, 35, 34, 33, 32, 31, 30, 29, 28, 27, 26, 25, 24, 23, 22, 21, 20, 21, 20, 19, 20, 19, 18, 19, 18, 17, 18, 17, 16, 17, 16, 15, 16, 15, 14, 15, 14, 13, 14, 13, 12, 13, 12, 11, 12, 11, 10, 11, 10, 11, 12, 13, 14, 15, 16, 17, 18, 19, 20, 19, 20, 19, 18, 19, 18, 17, 18, 17, 16, 17, 16, 15, 16, 15, 14, 15, 14, 13, 14, 13, 12, 13, 12, 11, 12, 11, 10, 11, 10, 11, 12, 13, 14, 15, 16, 17, 18, 19, 20, 19, 20, 19, 18, 19, 18, 17, 18, 17, 16, 17, 16, 15, 16, 15, 14, 15, 14, 13, 14, 13, 12, 13, 12, 11, 12, 11, 10, 11, 10, 9, 10, 9, 8, 9, 8, 7, 8, 7, 6, 7, 6, 5, 6, 5, 4, 5, 4, 3, 4, 3, 2, 3, 2, 1, 2, 1, 0, 1, 0, 1, 2, 3, 4, 5, 6, 7, 8, 9, 10, 9, 10, 9, 8, 9, 8, 7, 8, 7, 6, 7, 6, 5, 6, 5, 4, 5, 4, 3, 4, 3, 2, 3, 2, 1, 2, 1, 0, 1, 0, 1, 2, 3, 4, 5, 6, 7, 8, 9, 10, 9, 10, 9, 8, 9, 8, 7, 8, 7, 6, 7, 6, 5, 6, 5, 4, 5, 4, 3, 4, 3, 2, 3, 2, 1, 2, 1, 0, 1, 0, -1]\n",
      "len(times): 453\n"
     ]
    },
    {
     "name": "stderr",
     "output_type": "stream",
     "text": [
      "100%|██████████| 452/452 [00:17<00:00, 25.97it/s]\n"
     ]
    },
    {
     "name": "stdout",
     "output_type": "stream",
     "text": [
      "times: [249, 248, 247, 246, 245, 244, 243, 242, 241, 240, 239, 238, 237, 236, 235, 234, 233, 232, 231, 230, 229, 228, 227, 226, 225, 224, 223, 222, 221, 220, 219, 218, 217, 216, 215, 214, 213, 212, 211, 210, 209, 208, 207, 206, 205, 204, 203, 202, 201, 200, 199, 198, 197, 196, 195, 194, 193, 192, 191, 190, 189, 188, 187, 186, 185, 184, 183, 182, 181, 180, 179, 178, 177, 176, 175, 174, 173, 172, 171, 170, 169, 168, 167, 166, 165, 164, 163, 162, 161, 160, 159, 158, 157, 156, 155, 154, 153, 152, 151, 150, 149, 148, 147, 146, 145, 144, 143, 142, 141, 140, 139, 138, 137, 136, 135, 134, 133, 132, 131, 130, 129, 128, 127, 126, 125, 124, 123, 122, 121, 120, 119, 118, 117, 116, 115, 114, 113, 112, 111, 110, 109, 108, 107, 106, 105, 104, 103, 102, 101, 100, 99, 98, 97, 96, 95, 94, 93, 92, 91, 90, 89, 88, 87, 86, 85, 84, 83, 82, 81, 80, 79, 78, 77, 76, 75, 74, 73, 72, 71, 70, 69, 68, 67, 66, 65, 64, 63, 62, 61, 60, 59, 58, 57, 56, 55, 54, 53, 52, 51, 50, 49, 48, 47, 46, 45, 44, 43, 42, 41, 40, 39, 38, 37, 36, 35, 34, 33, 32, 31, 30, 29, 28, 27, 26, 25, 24, 23, 22, 21, 20, 21, 20, 19, 20, 19, 18, 19, 18, 17, 18, 17, 16, 17, 16, 15, 16, 15, 14, 15, 14, 13, 14, 13, 12, 13, 12, 11, 12, 11, 10, 11, 10, 11, 12, 13, 14, 15, 16, 17, 18, 19, 20, 19, 20, 19, 18, 19, 18, 17, 18, 17, 16, 17, 16, 15, 16, 15, 14, 15, 14, 13, 14, 13, 12, 13, 12, 11, 12, 11, 10, 11, 10, 11, 12, 13, 14, 15, 16, 17, 18, 19, 20, 19, 20, 19, 18, 19, 18, 17, 18, 17, 16, 17, 16, 15, 16, 15, 14, 15, 14, 13, 14, 13, 12, 13, 12, 11, 12, 11, 10, 11, 10, 9, 10, 9, 8, 9, 8, 7, 8, 7, 6, 7, 6, 5, 6, 5, 4, 5, 4, 3, 4, 3, 2, 3, 2, 1, 2, 1, 0, 1, 0, 1, 2, 3, 4, 5, 6, 7, 8, 9, 10, 9, 10, 9, 8, 9, 8, 7, 8, 7, 6, 7, 6, 5, 6, 5, 4, 5, 4, 3, 4, 3, 2, 3, 2, 1, 2, 1, 0, 1, 0, 1, 2, 3, 4, 5, 6, 7, 8, 9, 10, 9, 10, 9, 8, 9, 8, 7, 8, 7, 6, 7, 6, 5, 6, 5, 4, 5, 4, 3, 4, 3, 2, 3, 2, 1, 2, 1, 0, 1, 0, -1]\n",
      "len(times): 453\n"
     ]
    },
    {
     "name": "stderr",
     "output_type": "stream",
     "text": [
      "100%|██████████| 452/452 [00:21<00:00, 21.00it/s]\n"
     ]
    },
    {
     "name": "stdout",
     "output_type": "stream",
     "text": [
      "Keyboard interruption in main thread... closing server.\n",
      "Killing tunnel 127.0.0.1:7860 <> https://50636c1d24b1675b44.gradio.live\n"
     ]
    },
    {
     "data": {
      "text/plain": []
     },
     "execution_count": 68,
     "metadata": {},
     "output_type": "execute_result"
    }
   ],
   "source": [
    "import os\n",
    "\n",
    "demo = create_gradio_interface()\n",
    "os.makedirs(\"sample_images\", exist_ok=True)\n",
    "demo.launch(share=True, debug=True, inline=True, show_error=True)"
   ]
  }
 ],
 "metadata": {
  "accelerator": "GPU",
  "colab": {
   "gpuType": "A100",
   "machine_shape": "hm",
   "provenance": []
  },
  "kernelspec": {
   "display_name": ".venv",
   "language": "python",
   "name": "python3"
  },
  "language_info": {
   "codemirror_mode": {
    "name": "ipython",
    "version": 3
   },
   "file_extension": ".py",
   "mimetype": "text/x-python",
   "name": "python",
   "nbconvert_exporter": "python",
   "pygments_lexer": "ipython3",
   "version": "3.12.3"
  },
  "widgets": {
   "application/vnd.jupyter.widget-state+json": {
    "1288da435c5b4459a3e0180990714519": {
     "model_module": "@jupyter-widgets/controls",
     "model_module_version": "1.5.0",
     "model_name": "HBoxModel",
     "state": {
      "_dom_classes": [],
      "_model_module": "@jupyter-widgets/controls",
      "_model_module_version": "1.5.0",
      "_model_name": "HBoxModel",
      "_view_count": null,
      "_view_module": "@jupyter-widgets/controls",
      "_view_module_version": "1.5.0",
      "_view_name": "HBoxView",
      "box_style": "",
      "children": [
       "IPY_MODEL_491a1267ca054ef1bcb56cc7a9a3a298",
       "IPY_MODEL_9c9bb4139bae4e53a83ed7151aa0b177",
       "IPY_MODEL_1f47b227cb424fa994131a7781f84c1c"
      ],
      "layout": "IPY_MODEL_53681de83b624740a268888cafa2126d"
     }
    },
    "1f47b227cb424fa994131a7781f84c1c": {
     "model_module": "@jupyter-widgets/controls",
     "model_module_version": "1.5.0",
     "model_name": "HTMLModel",
     "state": {
      "_dom_classes": [],
      "_model_module": "@jupyter-widgets/controls",
      "_model_module_version": "1.5.0",
      "_model_name": "HTMLModel",
      "_view_count": null,
      "_view_module": "@jupyter-widgets/controls",
      "_view_module_version": "1.5.0",
      "_view_name": "HTMLView",
      "description": "",
      "description_tooltip": null,
      "layout": "IPY_MODEL_89e4d8ac577c4cbfafc91d0c6c674011",
      "placeholder": "​",
      "style": "IPY_MODEL_e00a0f6269f942ea8c79387f932d757d",
      "value": " 1.54G/1.54G [09:02&lt;00:00, 3.21MiB/s]"
     }
    },
    "4127d6e619c2441d9eccdb5dbbe2520a": {
     "model_module": "@jupyter-widgets/base",
     "model_module_version": "1.2.0",
     "model_name": "LayoutModel",
     "state": {
      "_model_module": "@jupyter-widgets/base",
      "_model_module_version": "1.2.0",
      "_model_name": "LayoutModel",
      "_view_count": null,
      "_view_module": "@jupyter-widgets/base",
      "_view_module_version": "1.2.0",
      "_view_name": "LayoutView",
      "align_content": null,
      "align_items": null,
      "align_self": null,
      "border": null,
      "bottom": null,
      "display": null,
      "flex": null,
      "flex_flow": null,
      "grid_area": null,
      "grid_auto_columns": null,
      "grid_auto_flow": null,
      "grid_auto_rows": null,
      "grid_column": null,
      "grid_gap": null,
      "grid_row": null,
      "grid_template_areas": null,
      "grid_template_columns": null,
      "grid_template_rows": null,
      "height": null,
      "justify_content": null,
      "justify_items": null,
      "left": null,
      "margin": null,
      "max_height": null,
      "max_width": null,
      "min_height": null,
      "min_width": null,
      "object_fit": null,
      "object_position": null,
      "order": null,
      "overflow": null,
      "overflow_x": null,
      "overflow_y": null,
      "padding": null,
      "right": null,
      "top": null,
      "visibility": null,
      "width": null
     }
    },
    "491a1267ca054ef1bcb56cc7a9a3a298": {
     "model_module": "@jupyter-widgets/controls",
     "model_module_version": "1.5.0",
     "model_name": "HTMLModel",
     "state": {
      "_dom_classes": [],
      "_model_module": "@jupyter-widgets/controls",
      "_model_module_version": "1.5.0",
      "_model_name": "HTMLModel",
      "_view_count": null,
      "_view_module": "@jupyter-widgets/controls",
      "_view_module_version": "1.5.0",
      "_view_name": "HTMLView",
      "description": "",
      "description_tooltip": null,
      "layout": "IPY_MODEL_8141a783d26c47429923dbe3808f5d25",
      "placeholder": "​",
      "style": "IPY_MODEL_8f8df97d3d794b39ba026aa18e2b927f",
      "value": "100%"
     }
    },
    "53681de83b624740a268888cafa2126d": {
     "model_module": "@jupyter-widgets/base",
     "model_module_version": "1.2.0",
     "model_name": "LayoutModel",
     "state": {
      "_model_module": "@jupyter-widgets/base",
      "_model_module_version": "1.2.0",
      "_model_name": "LayoutModel",
      "_view_count": null,
      "_view_module": "@jupyter-widgets/base",
      "_view_module_version": "1.2.0",
      "_view_name": "LayoutView",
      "align_content": null,
      "align_items": null,
      "align_self": null,
      "border": null,
      "bottom": null,
      "display": null,
      "flex": null,
      "flex_flow": null,
      "grid_area": null,
      "grid_auto_columns": null,
      "grid_auto_flow": null,
      "grid_auto_rows": null,
      "grid_column": null,
      "grid_gap": null,
      "grid_row": null,
      "grid_template_areas": null,
      "grid_template_columns": null,
      "grid_template_rows": null,
      "height": null,
      "justify_content": null,
      "justify_items": null,
      "left": null,
      "margin": null,
      "max_height": null,
      "max_width": null,
      "min_height": null,
      "min_width": null,
      "object_fit": null,
      "object_position": null,
      "order": null,
      "overflow": null,
      "overflow_x": null,
      "overflow_y": null,
      "padding": null,
      "right": null,
      "top": null,
      "visibility": null,
      "width": null
     }
    },
    "8141a783d26c47429923dbe3808f5d25": {
     "model_module": "@jupyter-widgets/base",
     "model_module_version": "1.2.0",
     "model_name": "LayoutModel",
     "state": {
      "_model_module": "@jupyter-widgets/base",
      "_model_module_version": "1.2.0",
      "_model_name": "LayoutModel",
      "_view_count": null,
      "_view_module": "@jupyter-widgets/base",
      "_view_module_version": "1.2.0",
      "_view_name": "LayoutView",
      "align_content": null,
      "align_items": null,
      "align_self": null,
      "border": null,
      "bottom": null,
      "display": null,
      "flex": null,
      "flex_flow": null,
      "grid_area": null,
      "grid_auto_columns": null,
      "grid_auto_flow": null,
      "grid_auto_rows": null,
      "grid_column": null,
      "grid_gap": null,
      "grid_row": null,
      "grid_template_areas": null,
      "grid_template_columns": null,
      "grid_template_rows": null,
      "height": null,
      "justify_content": null,
      "justify_items": null,
      "left": null,
      "margin": null,
      "max_height": null,
      "max_width": null,
      "min_height": null,
      "min_width": null,
      "object_fit": null,
      "object_position": null,
      "order": null,
      "overflow": null,
      "overflow_x": null,
      "overflow_y": null,
      "padding": null,
      "right": null,
      "top": null,
      "visibility": null,
      "width": null
     }
    },
    "89e4d8ac577c4cbfafc91d0c6c674011": {
     "model_module": "@jupyter-widgets/base",
     "model_module_version": "1.2.0",
     "model_name": "LayoutModel",
     "state": {
      "_model_module": "@jupyter-widgets/base",
      "_model_module_version": "1.2.0",
      "_model_name": "LayoutModel",
      "_view_count": null,
      "_view_module": "@jupyter-widgets/base",
      "_view_module_version": "1.2.0",
      "_view_name": "LayoutView",
      "align_content": null,
      "align_items": null,
      "align_self": null,
      "border": null,
      "bottom": null,
      "display": null,
      "flex": null,
      "flex_flow": null,
      "grid_area": null,
      "grid_auto_columns": null,
      "grid_auto_flow": null,
      "grid_auto_rows": null,
      "grid_column": null,
      "grid_gap": null,
      "grid_row": null,
      "grid_template_areas": null,
      "grid_template_columns": null,
      "grid_template_rows": null,
      "height": null,
      "justify_content": null,
      "justify_items": null,
      "left": null,
      "margin": null,
      "max_height": null,
      "max_width": null,
      "min_height": null,
      "min_width": null,
      "object_fit": null,
      "object_position": null,
      "order": null,
      "overflow": null,
      "overflow_x": null,
      "overflow_y": null,
      "padding": null,
      "right": null,
      "top": null,
      "visibility": null,
      "width": null
     }
    },
    "8f8df97d3d794b39ba026aa18e2b927f": {
     "model_module": "@jupyter-widgets/controls",
     "model_module_version": "1.5.0",
     "model_name": "DescriptionStyleModel",
     "state": {
      "_model_module": "@jupyter-widgets/controls",
      "_model_module_version": "1.5.0",
      "_model_name": "DescriptionStyleModel",
      "_view_count": null,
      "_view_module": "@jupyter-widgets/base",
      "_view_module_version": "1.2.0",
      "_view_name": "StyleView",
      "description_width": ""
     }
    },
    "9c9bb4139bae4e53a83ed7151aa0b177": {
     "model_module": "@jupyter-widgets/controls",
     "model_module_version": "1.5.0",
     "model_name": "FloatProgressModel",
     "state": {
      "_dom_classes": [],
      "_model_module": "@jupyter-widgets/controls",
      "_model_module_version": "1.5.0",
      "_model_name": "FloatProgressModel",
      "_view_count": null,
      "_view_module": "@jupyter-widgets/controls",
      "_view_module_version": "1.5.0",
      "_view_name": "ProgressView",
      "bar_style": "success",
      "description": "",
      "description_tooltip": null,
      "layout": "IPY_MODEL_4127d6e619c2441d9eccdb5dbbe2520a",
      "max": 1540394339,
      "min": 0,
      "orientation": "horizontal",
      "style": "IPY_MODEL_efa89441255f42fa92f11f551d73975d",
      "value": 1540394339
     }
    },
    "e00a0f6269f942ea8c79387f932d757d": {
     "model_module": "@jupyter-widgets/controls",
     "model_module_version": "1.5.0",
     "model_name": "DescriptionStyleModel",
     "state": {
      "_model_module": "@jupyter-widgets/controls",
      "_model_module_version": "1.5.0",
      "_model_name": "DescriptionStyleModel",
      "_view_count": null,
      "_view_module": "@jupyter-widgets/base",
      "_view_module_version": "1.2.0",
      "_view_name": "StyleView",
      "description_width": ""
     }
    },
    "efa89441255f42fa92f11f551d73975d": {
     "model_module": "@jupyter-widgets/controls",
     "model_module_version": "1.5.0",
     "model_name": "ProgressStyleModel",
     "state": {
      "_model_module": "@jupyter-widgets/controls",
      "_model_module_version": "1.5.0",
      "_model_name": "ProgressStyleModel",
      "_view_count": null,
      "_view_module": "@jupyter-widgets/base",
      "_view_module_version": "1.2.0",
      "_view_name": "StyleView",
      "bar_color": null,
      "description_width": ""
     }
    }
   }
  }
 },
 "nbformat": 4,
 "nbformat_minor": 0
}
